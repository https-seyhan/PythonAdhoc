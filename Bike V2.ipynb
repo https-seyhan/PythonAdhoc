{
 "cells": [
  {
   "cell_type": "code",
   "execution_count": 2,
   "id": "d01fbf72",
   "metadata": {},
   "outputs": [],
   "source": [
    "import pandas as pd\n",
    "import numpy as np\n",
    "#import statsmodels.api as sm\n",
    "import matplotlib\n",
    "from matplotlib import pyplot as plt\n",
    "from matplotlib import dates as mdates\n",
    "from datetime import datetime, timedelta\n",
    "import seaborn as sb\n",
    "import os\n",
    "os.chdir('/home/saul/python')\n",
    "\n",
    "\n",
    "from sklearn.linear_model import LinearRegression\n",
    "from sklearn.linear_model import Lasso\n",
    "from sklearn.ensemble import RandomForestRegressor\n",
    "from sklearn.metrics import mean_squared_error\n",
    "from sklearn.preprocessing import StandardScaler\n",
    "from sklearn.pipeline import make_pipeline\n",
    "\n",
    "from skforecast.ForecasterAutoreg import ForecasterAutoreg\n",
    "from skforecast.ForecasterAutoregCustom import ForecasterAutoregCustom\n",
    "from skforecast.ForecasterAutoregMultiOutput import ForecasterAutoregMultiOutput\n",
    "from skforecast.model_selection import grid_search_forecaster\n",
    "from skforecast.model_selection import backtesting_forecaster"
   ]
  },
  {
   "cell_type": "code",
   "execution_count": 3,
   "id": "2e699b90",
   "metadata": {},
   "outputs": [],
   "source": [
    "bike_rental = pd.read_csv('bike_rental_dataset.csv')"
   ]
  },
  {
   "cell_type": "markdown",
   "id": "f0e68580",
   "metadata": {},
   "source": [
    "### Data Preprocessing"
   ]
  },
  {
   "cell_type": "markdown",
   "id": "1c1fe28e",
   "metadata": {},
   "source": [
    "##### Convert date variable to data format"
   ]
  },
  {
   "cell_type": "code",
   "execution_count": 4,
   "id": "c85bf647",
   "metadata": {},
   "outputs": [],
   "source": [
    "bike_rental['date'] = bike_rental['datetime'].str.split(\" \").str[0]\n",
    "bike_rental['hour_mins'] = bike_rental['datetime'].str.split(\" \").str[1]\n",
    "\n",
    "bike_rental['date'] = bike_rental['date'].apply(lambda x: datetime.strptime(x, '%d/%m/%Y'))"
   ]
  },
  {
   "cell_type": "code",
   "execution_count": 5,
   "id": "2efa9a13",
   "metadata": {},
   "outputs": [
    {
     "data": {
      "text/plain": [
       "0       2011-01-01\n",
       "1       2011-01-01\n",
       "2       2011-01-01\n",
       "3       2011-01-01\n",
       "4       2011-01-01\n",
       "           ...    \n",
       "17345   2012-12-30\n",
       "17346   2012-12-30\n",
       "17347   2012-12-30\n",
       "17348   2012-12-30\n",
       "17349   2012-12-30\n",
       "Name: date, Length: 17350, dtype: datetime64[ns]"
      ]
     },
     "execution_count": 5,
     "metadata": {},
     "output_type": "execute_result"
    }
   ],
   "source": [
    "bike_rental['date'].head(-5)"
   ]
  },
  {
   "cell_type": "markdown",
   "id": "ae911bb2",
   "metadata": {},
   "source": [
    "###### Exclude days from 24/12/2012 onwards"
   ]
  },
  {
   "cell_type": "code",
   "execution_count": 6,
   "id": "85ee6765",
   "metadata": {},
   "outputs": [],
   "source": [
    "bike_rental = bike_rental[bike_rental['date'] < '2012-12-24']  # remove observation to be predicted"
   ]
  },
  {
   "cell_type": "code",
   "execution_count": 7,
   "id": "79857f8b",
   "metadata": {},
   "outputs": [
    {
     "data": {
      "text/plain": [
       "2011-01-01    24\n",
       "2012-06-26    24\n",
       "2012-04-23    24\n",
       "2012-04-24    24\n",
       "2012-04-25    24\n",
       "              ..\n",
       "2011-01-26    16\n",
       "2011-01-18    12\n",
       "2012-10-30    11\n",
       "2011-01-27     8\n",
       "2012-10-29     1\n",
       "Name: date, Length: 723, dtype: int64"
      ]
     },
     "execution_count": 7,
     "metadata": {},
     "output_type": "execute_result"
    }
   ],
   "source": [
    "bike_rental['date'].value_counts()"
   ]
  },
  {
   "cell_type": "code",
   "execution_count": null,
   "id": "09393be7",
   "metadata": {},
   "outputs": [],
   "source": []
  },
  {
   "cell_type": "markdown",
   "id": "c8e681be",
   "metadata": {},
   "source": [
    "###### Missing values"
   ]
  },
  {
   "cell_type": "code",
   "execution_count": 8,
   "id": "fb88e1f9",
   "metadata": {},
   "outputs": [
    {
     "name": "stdout",
     "output_type": "stream",
     "text": [
      "Number of rows with missing values: 0.000581767409389726\n"
     ]
    }
   ],
   "source": [
    "print(f'Number of rows with missing values: {bike_rental.isnull().any(axis=1).mean()}')"
   ]
  },
  {
   "cell_type": "code",
   "execution_count": 9,
   "id": "35265422",
   "metadata": {},
   "outputs": [],
   "source": [
    "get_missing_data = bike_rental[bike_rental.isnull().any(axis=1)]"
   ]
  },
  {
   "cell_type": "code",
   "execution_count": 10,
   "id": "4b810d9b",
   "metadata": {},
   "outputs": [
    {
     "data": {
      "text/html": [
       "<div>\n",
       "<style scoped>\n",
       "    .dataframe tbody tr th:only-of-type {\n",
       "        vertical-align: middle;\n",
       "    }\n",
       "\n",
       "    .dataframe tbody tr th {\n",
       "        vertical-align: top;\n",
       "    }\n",
       "\n",
       "    .dataframe thead th {\n",
       "        text-align: right;\n",
       "    }\n",
       "</style>\n",
       "<table border=\"1\" class=\"dataframe\">\n",
       "  <thead>\n",
       "    <tr style=\"text-align: right;\">\n",
       "      <th></th>\n",
       "      <th>datetime</th>\n",
       "      <th>season</th>\n",
       "      <th>holiday</th>\n",
       "      <th>workingday</th>\n",
       "      <th>weather</th>\n",
       "      <th>temp</th>\n",
       "      <th>atemp</th>\n",
       "      <th>humidity</th>\n",
       "      <th>windspeed</th>\n",
       "      <th>count</th>\n",
       "      <th>date</th>\n",
       "      <th>hour_mins</th>\n",
       "    </tr>\n",
       "  </thead>\n",
       "  <tbody>\n",
       "    <tr>\n",
       "      <th>14</th>\n",
       "      <td>1/01/2011 14:00</td>\n",
       "      <td>1</td>\n",
       "      <td>0</td>\n",
       "      <td>0</td>\n",
       "      <td>2</td>\n",
       "      <td>0.46</td>\n",
       "      <td>0.4545</td>\n",
       "      <td>NaN</td>\n",
       "      <td>0.2836</td>\n",
       "      <td>106.0</td>\n",
       "      <td>2011-01-01</td>\n",
       "      <td>14:00</td>\n",
       "    </tr>\n",
       "    <tr>\n",
       "      <th>56</th>\n",
       "      <td>3/01/2011 11:00</td>\n",
       "      <td>1</td>\n",
       "      <td>0</td>\n",
       "      <td>1</td>\n",
       "      <td>1</td>\n",
       "      <td>0.20</td>\n",
       "      <td>0.1818</td>\n",
       "      <td>NaN</td>\n",
       "      <td>0.3284</td>\n",
       "      <td>51.0</td>\n",
       "      <td>2011-01-03</td>\n",
       "      <td>11:00</td>\n",
       "    </tr>\n",
       "    <tr>\n",
       "      <th>93</th>\n",
       "      <td>5/01/2011 1:00</td>\n",
       "      <td>1</td>\n",
       "      <td>0</td>\n",
       "      <td>1</td>\n",
       "      <td>1</td>\n",
       "      <td>0.16</td>\n",
       "      <td>0.1970</td>\n",
       "      <td>NaN</td>\n",
       "      <td>0.0896</td>\n",
       "      <td>6.0</td>\n",
       "      <td>2011-01-05</td>\n",
       "      <td>1:00</td>\n",
       "    </tr>\n",
       "    <tr>\n",
       "      <th>166</th>\n",
       "      <td>8/01/2011 5:00</td>\n",
       "      <td>1</td>\n",
       "      <td>0</td>\n",
       "      <td>0</td>\n",
       "      <td>2</td>\n",
       "      <td>0.16</td>\n",
       "      <td>0.1667</td>\n",
       "      <td>NaN</td>\n",
       "      <td>0.1642</td>\n",
       "      <td>5.0</td>\n",
       "      <td>2011-01-08</td>\n",
       "      <td>5:00</td>\n",
       "    </tr>\n",
       "    <tr>\n",
       "      <th>762</th>\n",
       "      <td>4/02/2011 5:00</td>\n",
       "      <td>1</td>\n",
       "      <td>0</td>\n",
       "      <td>1</td>\n",
       "      <td>2</td>\n",
       "      <td>0.14</td>\n",
       "      <td>0.1515</td>\n",
       "      <td>NaN</td>\n",
       "      <td>0.1343</td>\n",
       "      <td>7.0</td>\n",
       "      <td>2011-02-04</td>\n",
       "      <td>5:00</td>\n",
       "    </tr>\n",
       "    <tr>\n",
       "      <th>3537</th>\n",
       "      <td>1/06/2011 7:00</td>\n",
       "      <td>2</td>\n",
       "      <td>0</td>\n",
       "      <td>1</td>\n",
       "      <td>2</td>\n",
       "      <td>0.70</td>\n",
       "      <td>0.6667</td>\n",
       "      <td>NaN</td>\n",
       "      <td>0.1642</td>\n",
       "      <td>284.0</td>\n",
       "      <td>2011-06-01</td>\n",
       "      <td>7:00</td>\n",
       "    </tr>\n",
       "    <tr>\n",
       "      <th>8796</th>\n",
       "      <td>7/01/2012 8:00</td>\n",
       "      <td>1</td>\n",
       "      <td>0</td>\n",
       "      <td>0</td>\n",
       "      <td>1</td>\n",
       "      <td>0.24</td>\n",
       "      <td>0.2576</td>\n",
       "      <td>NaN</td>\n",
       "      <td>0.1045</td>\n",
       "      <td>64.0</td>\n",
       "      <td>2012-01-07</td>\n",
       "      <td>8:00</td>\n",
       "    </tr>\n",
       "    <tr>\n",
       "      <th>13102</th>\n",
       "      <td>5/07/2012 3:00</td>\n",
       "      <td>3</td>\n",
       "      <td>0</td>\n",
       "      <td>1</td>\n",
       "      <td>1</td>\n",
       "      <td>0.72</td>\n",
       "      <td>0.6667</td>\n",
       "      <td>NaN</td>\n",
       "      <td>0.1940</td>\n",
       "      <td>7.0</td>\n",
       "      <td>2012-07-05</td>\n",
       "      <td>3:00</td>\n",
       "    </tr>\n",
       "    <tr>\n",
       "      <th>15947</th>\n",
       "      <td>2/11/2012 4:00</td>\n",
       "      <td>4</td>\n",
       "      <td>0</td>\n",
       "      <td>1</td>\n",
       "      <td>1</td>\n",
       "      <td>0.30</td>\n",
       "      <td>0.3182</td>\n",
       "      <td>NaN</td>\n",
       "      <td>0.1045</td>\n",
       "      <td>7.0</td>\n",
       "      <td>2012-11-02</td>\n",
       "      <td>4:00</td>\n",
       "    </tr>\n",
       "    <tr>\n",
       "      <th>16505</th>\n",
       "      <td>25/11/2012 11:00</td>\n",
       "      <td>4</td>\n",
       "      <td>0</td>\n",
       "      <td>0</td>\n",
       "      <td>2</td>\n",
       "      <td>0.26</td>\n",
       "      <td>0.2576</td>\n",
       "      <td>NaN</td>\n",
       "      <td>0.2239</td>\n",
       "      <td>204.0</td>\n",
       "      <td>2012-11-25</td>\n",
       "      <td>11:00</td>\n",
       "    </tr>\n",
       "  </tbody>\n",
       "</table>\n",
       "</div>"
      ],
      "text/plain": [
       "               datetime  season  holiday  workingday  weather  temp   atemp  \\\n",
       "14      1/01/2011 14:00       1        0           0        2  0.46  0.4545   \n",
       "56      3/01/2011 11:00       1        0           1        1  0.20  0.1818   \n",
       "93       5/01/2011 1:00       1        0           1        1  0.16  0.1970   \n",
       "166      8/01/2011 5:00       1        0           0        2  0.16  0.1667   \n",
       "762      4/02/2011 5:00       1        0           1        2  0.14  0.1515   \n",
       "3537     1/06/2011 7:00       2        0           1        2  0.70  0.6667   \n",
       "8796     7/01/2012 8:00       1        0           0        1  0.24  0.2576   \n",
       "13102    5/07/2012 3:00       3        0           1        1  0.72  0.6667   \n",
       "15947    2/11/2012 4:00       4        0           1        1  0.30  0.3182   \n",
       "16505  25/11/2012 11:00       4        0           0        2  0.26  0.2576   \n",
       "\n",
       "       humidity  windspeed  count       date hour_mins  \n",
       "14          NaN     0.2836  106.0 2011-01-01     14:00  \n",
       "56          NaN     0.3284   51.0 2011-01-03     11:00  \n",
       "93          NaN     0.0896    6.0 2011-01-05      1:00  \n",
       "166         NaN     0.1642    5.0 2011-01-08      5:00  \n",
       "762         NaN     0.1343    7.0 2011-02-04      5:00  \n",
       "3537        NaN     0.1642  284.0 2011-06-01      7:00  \n",
       "8796        NaN     0.1045   64.0 2012-01-07      8:00  \n",
       "13102       NaN     0.1940    7.0 2012-07-05      3:00  \n",
       "15947       NaN     0.1045    7.0 2012-11-02      4:00  \n",
       "16505       NaN     0.2239  204.0 2012-11-25     11:00  "
      ]
     },
     "execution_count": 10,
     "metadata": {},
     "output_type": "execute_result"
    }
   ],
   "source": [
    "get_missing_data # show missing values in the dataset"
   ]
  },
  {
   "cell_type": "markdown",
   "id": "2c8cdb55",
   "metadata": {},
   "source": [
    "###### Replace NaN  values with zero in the dataset"
   ]
  },
  {
   "cell_type": "code",
   "execution_count": 14,
   "id": "0dc6a7b7",
   "metadata": {},
   "outputs": [],
   "source": [
    "bike_rental = bike_rental.replace(np.nan, 0)"
   ]
  },
  {
   "cell_type": "code",
   "execution_count": 15,
   "id": "5c57f9ce",
   "metadata": {},
   "outputs": [],
   "source": [
    "get_missing_data = bike_rental[bike_rental.isnull().any(axis=1)]"
   ]
  },
  {
   "cell_type": "code",
   "execution_count": 16,
   "id": "7f61e79e",
   "metadata": {},
   "outputs": [
    {
     "data": {
      "text/html": [
       "<div>\n",
       "<style scoped>\n",
       "    .dataframe tbody tr th:only-of-type {\n",
       "        vertical-align: middle;\n",
       "    }\n",
       "\n",
       "    .dataframe tbody tr th {\n",
       "        vertical-align: top;\n",
       "    }\n",
       "\n",
       "    .dataframe thead th {\n",
       "        text-align: right;\n",
       "    }\n",
       "</style>\n",
       "<table border=\"1\" class=\"dataframe\">\n",
       "  <thead>\n",
       "    <tr style=\"text-align: right;\">\n",
       "      <th></th>\n",
       "      <th>datetime</th>\n",
       "      <th>season</th>\n",
       "      <th>holiday</th>\n",
       "      <th>workingday</th>\n",
       "      <th>weather</th>\n",
       "      <th>temp</th>\n",
       "      <th>atemp</th>\n",
       "      <th>humidity</th>\n",
       "      <th>windspeed</th>\n",
       "      <th>count</th>\n",
       "      <th>date</th>\n",
       "      <th>hour_mins</th>\n",
       "    </tr>\n",
       "  </thead>\n",
       "  <tbody>\n",
       "  </tbody>\n",
       "</table>\n",
       "</div>"
      ],
      "text/plain": [
       "Empty DataFrame\n",
       "Columns: [datetime, season, holiday, workingday, weather, temp, atemp, humidity, windspeed, count, date, hour_mins]\n",
       "Index: []"
      ]
     },
     "execution_count": 16,
     "metadata": {},
     "output_type": "execute_result"
    }
   ],
   "source": [
    "get_missing_data # show missing values in the dataset"
   ]
  },
  {
   "cell_type": "markdown",
   "id": "45f9af80",
   "metadata": {},
   "source": [
    "###### Convert numerical values to categorical"
   ]
  },
  {
   "cell_type": "code",
   "execution_count": 3,
   "id": "2ffdce77",
   "metadata": {},
   "outputs": [],
   "source": [
    "bike_rental = bike_rental.astype({'season':'string', 'holiday':'category', 'workingday':'category', \n",
    "                                  'weather':'category'})"
   ]
  },
  {
   "cell_type": "code",
   "execution_count": null,
   "id": "23cd149e",
   "metadata": {},
   "outputs": [],
   "source": []
  },
  {
   "cell_type": "code",
   "execution_count": 7,
   "id": "09e632aa",
   "metadata": {},
   "outputs": [],
   "source": [
    "bike_rental['week_number'] = bike_rental['date'].dt.isocalendar().week.astype(\"string\")\n",
    "type(bike_rental['week_number'])\n",
    "bike_rental['year'] = bike_rental['date'].dt.isocalendar().year.astype(\"string\")\n",
    "bike_rental['week_year'] = bike_rental[['week_number', 'year']].agg('_'.join, axis=1) "
   ]
  },
  {
   "cell_type": "code",
   "execution_count": 8,
   "id": "1c12ca45",
   "metadata": {},
   "outputs": [],
   "source": [
    "\n",
    "bike_rental['season'] = bike_rental['season'].str.replace('1', 'Spring')\n",
    "\n",
    "bike_rental['season'] = bike_rental['season'].str.replace('2', 'Summer')\n",
    "bike_rental['season'] = bike_rental['season'].str.replace('3', 'Fall')\n",
    "bike_rental['season'] = bike_rental['season'].str.replace('4', 'Winter')"
   ]
  },
  {
   "cell_type": "code",
   "execution_count": 9,
   "id": "cc109541",
   "metadata": {},
   "outputs": [
    {
     "data": {
      "text/plain": [
       "Fall      4496\n",
       "Summer    4409\n",
       "Winter    4232\n",
       "Spring    4218\n",
       "Name: season, dtype: Int64"
      ]
     },
     "execution_count": 9,
     "metadata": {},
     "output_type": "execute_result"
    }
   ],
   "source": [
    "bike_rental['season'].value_counts()"
   ]
  },
  {
   "cell_type": "code",
   "execution_count": 10,
   "id": "dd36a54a",
   "metadata": {},
   "outputs": [
    {
     "data": {
      "text/html": [
       "<div>\n",
       "<style scoped>\n",
       "    .dataframe tbody tr th:only-of-type {\n",
       "        vertical-align: middle;\n",
       "    }\n",
       "\n",
       "    .dataframe tbody tr th {\n",
       "        vertical-align: top;\n",
       "    }\n",
       "\n",
       "    .dataframe thead th {\n",
       "        text-align: right;\n",
       "    }\n",
       "</style>\n",
       "<table border=\"1\" class=\"dataframe\">\n",
       "  <thead>\n",
       "    <tr style=\"text-align: right;\">\n",
       "      <th></th>\n",
       "      <th>season</th>\n",
       "      <th>holiday</th>\n",
       "      <th>workingday</th>\n",
       "      <th>weather</th>\n",
       "      <th>temp</th>\n",
       "      <th>atemp</th>\n",
       "      <th>humidity</th>\n",
       "      <th>windspeed</th>\n",
       "      <th>count</th>\n",
       "      <th>date</th>\n",
       "      <th>day_of_week</th>\n",
       "      <th>hour</th>\n",
       "      <th>week_number</th>\n",
       "      <th>year</th>\n",
       "      <th>week_year</th>\n",
       "    </tr>\n",
       "  </thead>\n",
       "  <tbody>\n",
       "    <tr>\n",
       "      <th>0</th>\n",
       "      <td>Spring</td>\n",
       "      <td>0</td>\n",
       "      <td>0</td>\n",
       "      <td>1</td>\n",
       "      <td>0.24</td>\n",
       "      <td>0.2879</td>\n",
       "      <td>0.81</td>\n",
       "      <td>0.0</td>\n",
       "      <td>16.0</td>\n",
       "      <td>2011-01-01</td>\n",
       "      <td>5</td>\n",
       "      <td>0</td>\n",
       "      <td>52</td>\n",
       "      <td>2010</td>\n",
       "      <td>52_2010</td>\n",
       "    </tr>\n",
       "    <tr>\n",
       "      <th>1</th>\n",
       "      <td>Spring</td>\n",
       "      <td>0</td>\n",
       "      <td>0</td>\n",
       "      <td>1</td>\n",
       "      <td>0.22</td>\n",
       "      <td>0.2727</td>\n",
       "      <td>0.80</td>\n",
       "      <td>0.0</td>\n",
       "      <td>40.0</td>\n",
       "      <td>2011-01-01</td>\n",
       "      <td>5</td>\n",
       "      <td>1</td>\n",
       "      <td>52</td>\n",
       "      <td>2010</td>\n",
       "      <td>52_2010</td>\n",
       "    </tr>\n",
       "    <tr>\n",
       "      <th>2</th>\n",
       "      <td>Spring</td>\n",
       "      <td>0</td>\n",
       "      <td>0</td>\n",
       "      <td>1</td>\n",
       "      <td>0.22</td>\n",
       "      <td>0.2727</td>\n",
       "      <td>0.80</td>\n",
       "      <td>0.0</td>\n",
       "      <td>32.0</td>\n",
       "      <td>2011-01-01</td>\n",
       "      <td>5</td>\n",
       "      <td>2</td>\n",
       "      <td>52</td>\n",
       "      <td>2010</td>\n",
       "      <td>52_2010</td>\n",
       "    </tr>\n",
       "    <tr>\n",
       "      <th>3</th>\n",
       "      <td>Spring</td>\n",
       "      <td>0</td>\n",
       "      <td>0</td>\n",
       "      <td>1</td>\n",
       "      <td>0.24</td>\n",
       "      <td>0.2879</td>\n",
       "      <td>0.75</td>\n",
       "      <td>0.0</td>\n",
       "      <td>13.0</td>\n",
       "      <td>2011-01-01</td>\n",
       "      <td>5</td>\n",
       "      <td>3</td>\n",
       "      <td>52</td>\n",
       "      <td>2010</td>\n",
       "      <td>52_2010</td>\n",
       "    </tr>\n",
       "    <tr>\n",
       "      <th>4</th>\n",
       "      <td>Spring</td>\n",
       "      <td>0</td>\n",
       "      <td>0</td>\n",
       "      <td>1</td>\n",
       "      <td>0.24</td>\n",
       "      <td>0.2879</td>\n",
       "      <td>0.75</td>\n",
       "      <td>0.0</td>\n",
       "      <td>1.0</td>\n",
       "      <td>2011-01-01</td>\n",
       "      <td>5</td>\n",
       "      <td>4</td>\n",
       "      <td>52</td>\n",
       "      <td>2010</td>\n",
       "      <td>52_2010</td>\n",
       "    </tr>\n",
       "  </tbody>\n",
       "</table>\n",
       "</div>"
      ],
      "text/plain": [
       "   season holiday workingday weather  temp   atemp  humidity  windspeed  \\\n",
       "0  Spring       0          0       1  0.24  0.2879      0.81        0.0   \n",
       "1  Spring       0          0       1  0.22  0.2727      0.80        0.0   \n",
       "2  Spring       0          0       1  0.22  0.2727      0.80        0.0   \n",
       "3  Spring       0          0       1  0.24  0.2879      0.75        0.0   \n",
       "4  Spring       0          0       1  0.24  0.2879      0.75        0.0   \n",
       "\n",
       "   count       date  day_of_week  hour week_number  year week_year  \n",
       "0   16.0 2011-01-01            5     0          52  2010   52_2010  \n",
       "1   40.0 2011-01-01            5     1          52  2010   52_2010  \n",
       "2   32.0 2011-01-01            5     2          52  2010   52_2010  \n",
       "3   13.0 2011-01-01            5     3          52  2010   52_2010  \n",
       "4    1.0 2011-01-01            5     4          52  2010   52_2010  "
      ]
     },
     "execution_count": 10,
     "metadata": {},
     "output_type": "execute_result"
    }
   ],
   "source": [
    "bike_rental.head(5)"
   ]
  },
  {
   "cell_type": "code",
   "execution_count": 11,
   "id": "e2314d1e",
   "metadata": {},
   "outputs": [
    {
     "data": {
      "text/html": [
       "<div>\n",
       "<style scoped>\n",
       "    .dataframe tbody tr th:only-of-type {\n",
       "        vertical-align: middle;\n",
       "    }\n",
       "\n",
       "    .dataframe tbody tr th {\n",
       "        vertical-align: top;\n",
       "    }\n",
       "\n",
       "    .dataframe thead th {\n",
       "        text-align: right;\n",
       "    }\n",
       "</style>\n",
       "<table border=\"1\" class=\"dataframe\">\n",
       "  <thead>\n",
       "    <tr style=\"text-align: right;\">\n",
       "      <th></th>\n",
       "      <th>temp</th>\n",
       "      <th>atemp</th>\n",
       "      <th>humidity</th>\n",
       "      <th>windspeed</th>\n",
       "      <th>count</th>\n",
       "      <th>day_of_week</th>\n",
       "      <th>hour</th>\n",
       "    </tr>\n",
       "  </thead>\n",
       "  <tbody>\n",
       "    <tr>\n",
       "      <th>count</th>\n",
       "      <td>17355.000000</td>\n",
       "      <td>17355.000000</td>\n",
       "      <td>17345.000000</td>\n",
       "      <td>17355.000000</td>\n",
       "      <td>17189.000000</td>\n",
       "      <td>17355.000000</td>\n",
       "      <td>17355.000000</td>\n",
       "    </tr>\n",
       "    <tr>\n",
       "      <th>mean</th>\n",
       "      <td>0.497376</td>\n",
       "      <td>0.476124</td>\n",
       "      <td>0.627289</td>\n",
       "      <td>0.190146</td>\n",
       "      <td>190.774914</td>\n",
       "      <td>3.015615</td>\n",
       "      <td>11.546816</td>\n",
       "    </tr>\n",
       "    <tr>\n",
       "      <th>std</th>\n",
       "      <td>0.192396</td>\n",
       "      <td>0.171704</td>\n",
       "      <td>0.193061</td>\n",
       "      <td>0.122411</td>\n",
       "      <td>181.805639</td>\n",
       "      <td>2.000213</td>\n",
       "      <td>6.914394</td>\n",
       "    </tr>\n",
       "    <tr>\n",
       "      <th>min</th>\n",
       "      <td>0.020000</td>\n",
       "      <td>0.000000</td>\n",
       "      <td>0.000000</td>\n",
       "      <td>0.000000</td>\n",
       "      <td>1.000000</td>\n",
       "      <td>0.000000</td>\n",
       "      <td>0.000000</td>\n",
       "    </tr>\n",
       "    <tr>\n",
       "      <th>25%</th>\n",
       "      <td>0.340000</td>\n",
       "      <td>0.333300</td>\n",
       "      <td>0.480000</td>\n",
       "      <td>0.104500</td>\n",
       "      <td>41.000000</td>\n",
       "      <td>1.000000</td>\n",
       "      <td>6.000000</td>\n",
       "    </tr>\n",
       "    <tr>\n",
       "      <th>50%</th>\n",
       "      <td>0.500000</td>\n",
       "      <td>0.484800</td>\n",
       "      <td>0.630000</td>\n",
       "      <td>0.194000</td>\n",
       "      <td>144.000000</td>\n",
       "      <td>3.000000</td>\n",
       "      <td>12.000000</td>\n",
       "    </tr>\n",
       "    <tr>\n",
       "      <th>75%</th>\n",
       "      <td>0.660000</td>\n",
       "      <td>0.621200</td>\n",
       "      <td>0.780000</td>\n",
       "      <td>0.253700</td>\n",
       "      <td>282.000000</td>\n",
       "      <td>5.000000</td>\n",
       "      <td>18.000000</td>\n",
       "    </tr>\n",
       "    <tr>\n",
       "      <th>max</th>\n",
       "      <td>1.000000</td>\n",
       "      <td>1.000000</td>\n",
       "      <td>1.000000</td>\n",
       "      <td>0.850700</td>\n",
       "      <td>977.000000</td>\n",
       "      <td>6.000000</td>\n",
       "      <td>23.000000</td>\n",
       "    </tr>\n",
       "  </tbody>\n",
       "</table>\n",
       "</div>"
      ],
      "text/plain": [
       "               temp         atemp      humidity     windspeed         count  \\\n",
       "count  17355.000000  17355.000000  17345.000000  17355.000000  17189.000000   \n",
       "mean       0.497376      0.476124      0.627289      0.190146    190.774914   \n",
       "std        0.192396      0.171704      0.193061      0.122411    181.805639   \n",
       "min        0.020000      0.000000      0.000000      0.000000      1.000000   \n",
       "25%        0.340000      0.333300      0.480000      0.104500     41.000000   \n",
       "50%        0.500000      0.484800      0.630000      0.194000    144.000000   \n",
       "75%        0.660000      0.621200      0.780000      0.253700    282.000000   \n",
       "max        1.000000      1.000000      1.000000      0.850700    977.000000   \n",
       "\n",
       "        day_of_week          hour  \n",
       "count  17355.000000  17355.000000  \n",
       "mean       3.015615     11.546816  \n",
       "std        2.000213      6.914394  \n",
       "min        0.000000      0.000000  \n",
       "25%        1.000000      6.000000  \n",
       "50%        3.000000     12.000000  \n",
       "75%        5.000000     18.000000  \n",
       "max        6.000000     23.000000  "
      ]
     },
     "execution_count": 11,
     "metadata": {},
     "output_type": "execute_result"
    }
   ],
   "source": [
    "bike_rental.describe()"
   ]
  },
  {
   "cell_type": "code",
   "execution_count": 12,
   "id": "25b8d412",
   "metadata": {},
   "outputs": [
    {
     "name": "stdout",
     "output_type": "stream",
     "text": [
      "<class 'pandas.core.frame.DataFrame'>\n",
      "RangeIndex: 17355 entries, 0 to 17354\n",
      "Data columns (total 15 columns):\n",
      " #   Column       Non-Null Count  Dtype         \n",
      "---  ------       --------------  -----         \n",
      " 0   season       17355 non-null  string        \n",
      " 1   holiday      17355 non-null  category      \n",
      " 2   workingday   17355 non-null  category      \n",
      " 3   weather      17355 non-null  category      \n",
      " 4   temp         17355 non-null  float64       \n",
      " 5   atemp        17355 non-null  float64       \n",
      " 6   humidity     17345 non-null  float64       \n",
      " 7   windspeed    17355 non-null  float64       \n",
      " 8   count        17189 non-null  float64       \n",
      " 9   date         17355 non-null  datetime64[ns]\n",
      " 10  day_of_week  17355 non-null  int64         \n",
      " 11  hour         17355 non-null  int64         \n",
      " 12  week_number  17355 non-null  string        \n",
      " 13  year         17355 non-null  string        \n",
      " 14  week_year    17355 non-null  object        \n",
      "dtypes: category(3), datetime64[ns](1), float64(5), int64(2), object(1), string(3)\n",
      "memory usage: 1.6+ MB\n"
     ]
    }
   ],
   "source": [
    "bike_rental.info()"
   ]
  },
  {
   "cell_type": "code",
   "execution_count": 13,
   "id": "435c5c2c",
   "metadata": {},
   "outputs": [
    {
     "data": {
      "text/plain": [
       "2011-01-01    24\n",
       "2012-04-01    24\n",
       "2012-04-27    24\n",
       "2012-04-28    24\n",
       "2012-04-29    24\n",
       "              ..\n",
       "2011-01-26    16\n",
       "2011-01-18    12\n",
       "2012-10-30    11\n",
       "2011-01-27     8\n",
       "2012-10-29     1\n",
       "Name: date, Length: 730, dtype: int64"
      ]
     },
     "execution_count": 13,
     "metadata": {},
     "output_type": "execute_result"
    }
   ],
   "source": [
    "bike_rental['date'].value_counts()"
   ]
  },
  {
   "cell_type": "code",
   "execution_count": 14,
   "id": "d758705d",
   "metadata": {},
   "outputs": [],
   "source": [
    "daily_counts = pd.pivot_table(bike_rental, values = 'count', index=['date']).reset_index()"
   ]
  },
  {
   "cell_type": "markdown",
   "id": "cfe9e4e4",
   "metadata": {},
   "source": [
    "###### Weekly Bike Counts"
   ]
  },
  {
   "cell_type": "code",
   "execution_count": 15,
   "id": "bbca347f",
   "metadata": {},
   "outputs": [],
   "source": [
    "bike_rental[\"first_day_of_the_week\"] = bike_rental.date - bike_rental.day_of_week * timedelta(days=1) # Get First day of Week"
   ]
  },
  {
   "cell_type": "code",
   "execution_count": 16,
   "id": "2c6e2564",
   "metadata": {},
   "outputs": [
    {
     "data": {
      "text/html": [
       "<div>\n",
       "<style scoped>\n",
       "    .dataframe tbody tr th:only-of-type {\n",
       "        vertical-align: middle;\n",
       "    }\n",
       "\n",
       "    .dataframe tbody tr th {\n",
       "        vertical-align: top;\n",
       "    }\n",
       "\n",
       "    .dataframe thead th {\n",
       "        text-align: right;\n",
       "    }\n",
       "</style>\n",
       "<table border=\"1\" class=\"dataframe\">\n",
       "  <thead>\n",
       "    <tr style=\"text-align: right;\">\n",
       "      <th></th>\n",
       "      <th>season</th>\n",
       "      <th>holiday</th>\n",
       "      <th>workingday</th>\n",
       "      <th>weather</th>\n",
       "      <th>temp</th>\n",
       "      <th>atemp</th>\n",
       "      <th>humidity</th>\n",
       "      <th>windspeed</th>\n",
       "      <th>count</th>\n",
       "      <th>date</th>\n",
       "      <th>day_of_week</th>\n",
       "      <th>hour</th>\n",
       "      <th>week_number</th>\n",
       "      <th>year</th>\n",
       "      <th>week_year</th>\n",
       "      <th>first_day_of_the_week</th>\n",
       "    </tr>\n",
       "  </thead>\n",
       "  <tbody>\n",
       "    <tr>\n",
       "      <th>0</th>\n",
       "      <td>Spring</td>\n",
       "      <td>0</td>\n",
       "      <td>0</td>\n",
       "      <td>1</td>\n",
       "      <td>0.24</td>\n",
       "      <td>0.2879</td>\n",
       "      <td>0.81</td>\n",
       "      <td>0.0</td>\n",
       "      <td>16.0</td>\n",
       "      <td>2011-01-01</td>\n",
       "      <td>5</td>\n",
       "      <td>0</td>\n",
       "      <td>52</td>\n",
       "      <td>2010</td>\n",
       "      <td>52_2010</td>\n",
       "      <td>2010-12-27</td>\n",
       "    </tr>\n",
       "    <tr>\n",
       "      <th>1</th>\n",
       "      <td>Spring</td>\n",
       "      <td>0</td>\n",
       "      <td>0</td>\n",
       "      <td>1</td>\n",
       "      <td>0.22</td>\n",
       "      <td>0.2727</td>\n",
       "      <td>0.80</td>\n",
       "      <td>0.0</td>\n",
       "      <td>40.0</td>\n",
       "      <td>2011-01-01</td>\n",
       "      <td>5</td>\n",
       "      <td>1</td>\n",
       "      <td>52</td>\n",
       "      <td>2010</td>\n",
       "      <td>52_2010</td>\n",
       "      <td>2010-12-27</td>\n",
       "    </tr>\n",
       "    <tr>\n",
       "      <th>2</th>\n",
       "      <td>Spring</td>\n",
       "      <td>0</td>\n",
       "      <td>0</td>\n",
       "      <td>1</td>\n",
       "      <td>0.22</td>\n",
       "      <td>0.2727</td>\n",
       "      <td>0.80</td>\n",
       "      <td>0.0</td>\n",
       "      <td>32.0</td>\n",
       "      <td>2011-01-01</td>\n",
       "      <td>5</td>\n",
       "      <td>2</td>\n",
       "      <td>52</td>\n",
       "      <td>2010</td>\n",
       "      <td>52_2010</td>\n",
       "      <td>2010-12-27</td>\n",
       "    </tr>\n",
       "    <tr>\n",
       "      <th>3</th>\n",
       "      <td>Spring</td>\n",
       "      <td>0</td>\n",
       "      <td>0</td>\n",
       "      <td>1</td>\n",
       "      <td>0.24</td>\n",
       "      <td>0.2879</td>\n",
       "      <td>0.75</td>\n",
       "      <td>0.0</td>\n",
       "      <td>13.0</td>\n",
       "      <td>2011-01-01</td>\n",
       "      <td>5</td>\n",
       "      <td>3</td>\n",
       "      <td>52</td>\n",
       "      <td>2010</td>\n",
       "      <td>52_2010</td>\n",
       "      <td>2010-12-27</td>\n",
       "    </tr>\n",
       "    <tr>\n",
       "      <th>4</th>\n",
       "      <td>Spring</td>\n",
       "      <td>0</td>\n",
       "      <td>0</td>\n",
       "      <td>1</td>\n",
       "      <td>0.24</td>\n",
       "      <td>0.2879</td>\n",
       "      <td>0.75</td>\n",
       "      <td>0.0</td>\n",
       "      <td>1.0</td>\n",
       "      <td>2011-01-01</td>\n",
       "      <td>5</td>\n",
       "      <td>4</td>\n",
       "      <td>52</td>\n",
       "      <td>2010</td>\n",
       "      <td>52_2010</td>\n",
       "      <td>2010-12-27</td>\n",
       "    </tr>\n",
       "  </tbody>\n",
       "</table>\n",
       "</div>"
      ],
      "text/plain": [
       "   season holiday workingday weather  temp   atemp  humidity  windspeed  \\\n",
       "0  Spring       0          0       1  0.24  0.2879      0.81        0.0   \n",
       "1  Spring       0          0       1  0.22  0.2727      0.80        0.0   \n",
       "2  Spring       0          0       1  0.22  0.2727      0.80        0.0   \n",
       "3  Spring       0          0       1  0.24  0.2879      0.75        0.0   \n",
       "4  Spring       0          0       1  0.24  0.2879      0.75        0.0   \n",
       "\n",
       "   count       date  day_of_week  hour week_number  year week_year  \\\n",
       "0   16.0 2011-01-01            5     0          52  2010   52_2010   \n",
       "1   40.0 2011-01-01            5     1          52  2010   52_2010   \n",
       "2   32.0 2011-01-01            5     2          52  2010   52_2010   \n",
       "3   13.0 2011-01-01            5     3          52  2010   52_2010   \n",
       "4    1.0 2011-01-01            5     4          52  2010   52_2010   \n",
       "\n",
       "  first_day_of_the_week  \n",
       "0            2010-12-27  \n",
       "1            2010-12-27  \n",
       "2            2010-12-27  \n",
       "3            2010-12-27  \n",
       "4            2010-12-27  "
      ]
     },
     "execution_count": 16,
     "metadata": {},
     "output_type": "execute_result"
    }
   ],
   "source": [
    "bike_rental.head(5)"
   ]
  },
  {
   "cell_type": "code",
   "execution_count": 17,
   "id": "6db1388c",
   "metadata": {},
   "outputs": [],
   "source": [
    "weekly_counts = pd.pivot_table(bike_rental, values = 'count', index=['first_day_of_the_week'], aggfunc= 'sum').reset_index()"
   ]
  },
  {
   "cell_type": "code",
   "execution_count": 18,
   "id": "17b6f8ba",
   "metadata": {},
   "outputs": [
    {
     "data": {
      "text/html": [
       "<div>\n",
       "<style scoped>\n",
       "    .dataframe tbody tr th:only-of-type {\n",
       "        vertical-align: middle;\n",
       "    }\n",
       "\n",
       "    .dataframe tbody tr th {\n",
       "        vertical-align: top;\n",
       "    }\n",
       "\n",
       "    .dataframe thead th {\n",
       "        text-align: right;\n",
       "    }\n",
       "</style>\n",
       "<table border=\"1\" class=\"dataframe\">\n",
       "  <thead>\n",
       "    <tr style=\"text-align: right;\">\n",
       "      <th></th>\n",
       "      <th>first_day_of_the_week</th>\n",
       "      <th>count</th>\n",
       "    </tr>\n",
       "  </thead>\n",
       "  <tbody>\n",
       "    <tr>\n",
       "      <th>0</th>\n",
       "      <td>2010-12-27</td>\n",
       "      <td>1786.0</td>\n",
       "    </tr>\n",
       "    <tr>\n",
       "      <th>1</th>\n",
       "      <td>2011-01-03</td>\n",
       "      <td>9408.0</td>\n",
       "    </tr>\n",
       "    <tr>\n",
       "      <th>2</th>\n",
       "      <td>2011-01-10</td>\n",
       "      <td>9025.0</td>\n",
       "    </tr>\n",
       "    <tr>\n",
       "      <th>3</th>\n",
       "      <td>2011-01-17</td>\n",
       "      <td>8770.0</td>\n",
       "    </tr>\n",
       "    <tr>\n",
       "      <th>4</th>\n",
       "      <td>2011-01-24</td>\n",
       "      <td>7699.0</td>\n",
       "    </tr>\n",
       "    <tr>\n",
       "      <th>...</th>\n",
       "      <td>...</td>\n",
       "      <td>...</td>\n",
       "    </tr>\n",
       "    <tr>\n",
       "      <th>95</th>\n",
       "      <td>2012-10-22</td>\n",
       "      <td>49331.0</td>\n",
       "    </tr>\n",
       "    <tr>\n",
       "      <th>96</th>\n",
       "      <td>2012-10-29</td>\n",
       "      <td>28762.0</td>\n",
       "    </tr>\n",
       "    <tr>\n",
       "      <th>97</th>\n",
       "      <td>2012-11-05</td>\n",
       "      <td>40675.0</td>\n",
       "    </tr>\n",
       "    <tr>\n",
       "      <th>98</th>\n",
       "      <td>2012-11-12</td>\n",
       "      <td>37299.0</td>\n",
       "    </tr>\n",
       "    <tr>\n",
       "      <th>99</th>\n",
       "      <td>2012-11-19</td>\n",
       "      <td>27315.0</td>\n",
       "    </tr>\n",
       "  </tbody>\n",
       "</table>\n",
       "<p>100 rows × 2 columns</p>\n",
       "</div>"
      ],
      "text/plain": [
       "   first_day_of_the_week    count\n",
       "0             2010-12-27   1786.0\n",
       "1             2011-01-03   9408.0\n",
       "2             2011-01-10   9025.0\n",
       "3             2011-01-17   8770.0\n",
       "4             2011-01-24   7699.0\n",
       "..                   ...      ...\n",
       "95            2012-10-22  49331.0\n",
       "96            2012-10-29  28762.0\n",
       "97            2012-11-05  40675.0\n",
       "98            2012-11-12  37299.0\n",
       "99            2012-11-19  27315.0\n",
       "\n",
       "[100 rows x 2 columns]"
      ]
     },
     "execution_count": 18,
     "metadata": {},
     "output_type": "execute_result"
    }
   ],
   "source": [
    "weekly_counts.head(-5)"
   ]
  },
  {
   "cell_type": "code",
   "execution_count": 19,
   "id": "f2735220",
   "metadata": {},
   "outputs": [],
   "source": [
    "weekly_counts.to_csv('weekly_bike_counts.csv', index=False)"
   ]
  },
  {
   "cell_type": "code",
   "execution_count": 20,
   "id": "d5cf463e",
   "metadata": {},
   "outputs": [
    {
     "data": {
      "text/html": [
       "<div>\n",
       "<style scoped>\n",
       "    .dataframe tbody tr th:only-of-type {\n",
       "        vertical-align: middle;\n",
       "    }\n",
       "\n",
       "    .dataframe tbody tr th {\n",
       "        vertical-align: top;\n",
       "    }\n",
       "\n",
       "    .dataframe thead th {\n",
       "        text-align: right;\n",
       "    }\n",
       "</style>\n",
       "<table border=\"1\" class=\"dataframe\">\n",
       "  <thead>\n",
       "    <tr style=\"text-align: right;\">\n",
       "      <th></th>\n",
       "      <th>count</th>\n",
       "    </tr>\n",
       "  </thead>\n",
       "  <tbody>\n",
       "    <tr>\n",
       "      <th>count</th>\n",
       "      <td>105.000000</td>\n",
       "    </tr>\n",
       "    <tr>\n",
       "      <th>mean</th>\n",
       "      <td>31230.761905</td>\n",
       "    </tr>\n",
       "    <tr>\n",
       "      <th>std</th>\n",
       "      <td>12765.802018</td>\n",
       "    </tr>\n",
       "    <tr>\n",
       "      <th>min</th>\n",
       "      <td>0.000000</td>\n",
       "    </tr>\n",
       "    <tr>\n",
       "      <th>25%</th>\n",
       "      <td>23132.000000</td>\n",
       "    </tr>\n",
       "    <tr>\n",
       "      <th>50%</th>\n",
       "      <td>30779.000000</td>\n",
       "    </tr>\n",
       "    <tr>\n",
       "      <th>75%</th>\n",
       "      <td>42323.000000</td>\n",
       "    </tr>\n",
       "    <tr>\n",
       "      <th>max</th>\n",
       "      <td>55022.000000</td>\n",
       "    </tr>\n",
       "  </tbody>\n",
       "</table>\n",
       "</div>"
      ],
      "text/plain": [
       "              count\n",
       "count    105.000000\n",
       "mean   31230.761905\n",
       "std    12765.802018\n",
       "min        0.000000\n",
       "25%    23132.000000\n",
       "50%    30779.000000\n",
       "75%    42323.000000\n",
       "max    55022.000000"
      ]
     },
     "execution_count": 20,
     "metadata": {},
     "output_type": "execute_result"
    }
   ],
   "source": [
    "weekly_counts.describe()"
   ]
  },
  {
   "cell_type": "code",
   "execution_count": 21,
   "id": "debdbd1e",
   "metadata": {},
   "outputs": [],
   "source": [
    "weekly_counts = weekly_counts[weekly_counts['count'] !=0]  # remove zero values (aka 24/12/2012) since this  week\n",
    "                                                           # is to be predicted and zero value leads incorrect prediction"
   ]
  },
  {
   "cell_type": "code",
   "execution_count": 22,
   "id": "d5aaa057",
   "metadata": {},
   "outputs": [
    {
     "data": {
      "text/html": [
       "<div>\n",
       "<style scoped>\n",
       "    .dataframe tbody tr th:only-of-type {\n",
       "        vertical-align: middle;\n",
       "    }\n",
       "\n",
       "    .dataframe tbody tr th {\n",
       "        vertical-align: top;\n",
       "    }\n",
       "\n",
       "    .dataframe thead th {\n",
       "        text-align: right;\n",
       "    }\n",
       "</style>\n",
       "<table border=\"1\" class=\"dataframe\">\n",
       "  <thead>\n",
       "    <tr style=\"text-align: right;\">\n",
       "      <th></th>\n",
       "      <th>count</th>\n",
       "    </tr>\n",
       "  </thead>\n",
       "  <tbody>\n",
       "    <tr>\n",
       "      <th>count</th>\n",
       "      <td>104.000000</td>\n",
       "    </tr>\n",
       "    <tr>\n",
       "      <th>mean</th>\n",
       "      <td>31531.057692</td>\n",
       "    </tr>\n",
       "    <tr>\n",
       "      <th>std</th>\n",
       "      <td>12449.390349</td>\n",
       "    </tr>\n",
       "    <tr>\n",
       "      <th>min</th>\n",
       "      <td>1786.000000</td>\n",
       "    </tr>\n",
       "    <tr>\n",
       "      <th>25%</th>\n",
       "      <td>23658.500000</td>\n",
       "    </tr>\n",
       "    <tr>\n",
       "      <th>50%</th>\n",
       "      <td>30982.000000</td>\n",
       "    </tr>\n",
       "    <tr>\n",
       "      <th>75%</th>\n",
       "      <td>42433.250000</td>\n",
       "    </tr>\n",
       "    <tr>\n",
       "      <th>max</th>\n",
       "      <td>55022.000000</td>\n",
       "    </tr>\n",
       "  </tbody>\n",
       "</table>\n",
       "</div>"
      ],
      "text/plain": [
       "              count\n",
       "count    104.000000\n",
       "mean   31531.057692\n",
       "std    12449.390349\n",
       "min     1786.000000\n",
       "25%    23658.500000\n",
       "50%    30982.000000\n",
       "75%    42433.250000\n",
       "max    55022.000000"
      ]
     },
     "execution_count": 22,
     "metadata": {},
     "output_type": "execute_result"
    }
   ],
   "source": [
    "weekly_counts.describe()"
   ]
  },
  {
   "cell_type": "code",
   "execution_count": 23,
   "id": "54cb1ead",
   "metadata": {},
   "outputs": [
    {
     "data": {
      "image/png": "[encoded data removed]",
      "text/plain": [
       "<Figure size 1080x504 with 1 Axes>"
      ]
     },
     "metadata": {
      "needs_background": "light"
     },
     "output_type": "display_data"
    }
   ],
   "source": [
    "plt.rcParams[\"figure.figsize\"] = [15.00, 7]\n",
    "plt.rcParams[\"figure.autolayout\"] = True\n",
    "\n",
    "ax = sb.lineplot(x=\"first_day_of_the_week\", y=\"count\", data=weekly_counts)\n",
    "\n",
    "ax.tick_params(rotation=45)\n",
    "\n",
    "plt.show()"
   ]
  },
  {
   "cell_type": "markdown",
   "id": "717ae96c",
   "metadata": {},
   "source": [
    "###### By looking at the time series graph, there is seasonality during the xmas period (the number of bikes rented during and toward the period is declined) "
   ]
  },
  {
   "cell_type": "markdown",
   "id": "7fd540bb",
   "metadata": {},
   "source": [
    "###### Trend of bike rentals"
   ]
  },
  {
   "cell_type": "code",
   "execution_count": 24,
   "id": "e8fcf2aa",
   "metadata": {},
   "outputs": [
    {
     "data": {
      "text/plain": [
       "<AxesSubplot:ylabel='count'>"
      ]
     },
     "execution_count": 24,
     "metadata": {},
     "output_type": "execute_result"
    },
    {
     "data": {
      "image/png": "[encoded data removed]",
      "text/plain": [
       "<Figure size 1080x504 with 1 Axes>"
      ]
     },
     "metadata": {
      "needs_background": "light"
     },
     "output_type": "display_data"
    }
   ],
   "source": [
    "sb.regplot(x=weekly_counts.index, y=\"count\", data=weekly_counts)"
   ]
  },
  {
   "cell_type": "markdown",
   "id": "67b2a168",
   "metadata": {},
   "source": [
    "#### Predict via Time series auto correlation"
   ]
  },
  {
   "cell_type": "code",
   "execution_count": 25,
   "id": "5fc98db6",
   "metadata": {},
   "outputs": [
    {
     "data": {
      "image/png": "[encoded data removed]",
      "text/plain": [
       "<Figure size 1080x504 with 4 Axes>"
      ]
     },
     "metadata": {
      "needs_background": "light"
     },
     "output_type": "display_data"
    }
   ],
   "source": [
    "indexed_data_set = weekly_counts.set_index(\"first_day_of_the_week\")\n",
    "\n",
    "decomp = sm.tsa.seasonal_decompose(indexed_data_set, model='additive') # Additive approach count(t) = Level(t) + Trend(t) + Seasonality(t) + Noise(t)\n",
    "\n",
    "figure = decomp.plot()\n",
    "\n",
    "matplotlib.rcParams['figure.figsize'] = [10,5]"
   ]
  },
  {
   "cell_type": "code",
   "execution_count": 26,
   "id": "2f45238a",
   "metadata": {},
   "outputs": [
    {
     "data": {
      "text/plain": [
       "[<matplotlib.lines.Line2D at 0x7f2956684910>]"
      ]
     },
     "execution_count": 26,
     "metadata": {},
     "output_type": "execute_result"
    },
    {
     "data": {
      "image/png": "[encoded data removed]",
      "text/plain": [
       "<Figure size 720x360 with 1 Axes>"
      ]
     },
     "metadata": {
      "needs_background": "light"
     },
     "output_type": "display_data"
    }
   ],
   "source": [
    "plt.plot(indexed_data_set.index, indexed_data_set['count'], c='blue')\n",
    "plt.plot(decomp.trend.index, decomp.trend, c='red')"
   ]
  },
  {
   "cell_type": "code",
   "execution_count": 27,
   "id": "28f9d3e1",
   "metadata": {},
   "outputs": [
    {
     "data": {
      "image/png": "[encoded data removed]",
      "text/plain": [
       "<Figure size 720x360 with 4 Axes>"
      ]
     },
     "metadata": {
      "needs_background": "light"
     },
     "output_type": "display_data"
    }
   ],
   "source": [
    "indexed_data_set = weekly_counts.set_index(\"first_day_of_the_week\")\n",
    "\n",
    "decomp = sm.tsa.seasonal_decompose(indexed_data_set, model='multiplicative') # Multoplicative approach count(t) = Level(t)*Trend(t)*Seasonality(t) + Noise(t)\n",
    "\n",
    "figure = decomp.plot()\n",
    "\n",
    "matplotlib.rcParams['figure.figsize'] = [10,5]"
   ]
  },
  {
   "cell_type": "code",
   "execution_count": 28,
   "id": "248b5406",
   "metadata": {},
   "outputs": [
    {
     "data": {
      "text/plain": [
       "[<matplotlib.lines.Line2D at 0x7f2955a59fc0>]"
      ]
     },
     "execution_count": 28,
     "metadata": {},
     "output_type": "execute_result"
    },
    {
     "data": {
      "image/png": "[encoded data removed]",
      "text/plain": [
       "<Figure size 720x360 with 1 Axes>"
      ]
     },
     "metadata": {
      "needs_background": "light"
     },
     "output_type": "display_data"
    }
   ],
   "source": [
    "plt.plot(indexed_data_set.index, indexed_data_set['count'], c='blue')\n",
    "plt.plot(decomp.trend.index, decomp.trend, c='red')"
   ]
  },
  {
   "cell_type": "markdown",
   "id": "62fdb9d0",
   "metadata": {},
   "source": [
    "###### Prediction with sklearn RandomForestRegressor"
   ]
  },
  {
   "cell_type": "code",
   "execution_count": 29,
   "id": "90a16489",
   "metadata": {},
   "outputs": [
    {
     "data": {
      "text/plain": [
       "Index(['first_day_of_the_week', 'count'], dtype='object')"
      ]
     },
     "execution_count": 29,
     "metadata": {},
     "output_type": "execute_result"
    }
   ],
   "source": [
    "weekly_counts.columns"
   ]
  },
  {
   "cell_type": "code",
   "execution_count": 30,
   "id": "fcebc0ae",
   "metadata": {},
   "outputs": [
    {
     "data": {
      "text/plain": [
       "Index(['season', 'holiday', 'workingday', 'weather', 'temp', 'atemp',\n",
       "       'humidity', 'windspeed', 'count', 'date', 'day_of_week', 'hour',\n",
       "       'week_number', 'year', 'week_year', 'first_day_of_the_week'],\n",
       "      dtype='object')"
      ]
     },
     "execution_count": 30,
     "metadata": {},
     "output_type": "execute_result"
    }
   ],
   "source": [
    "bike_rental.columns"
   ]
  },
  {
   "cell_type": "code",
   "execution_count": null,
   "id": "5ccc96c3",
   "metadata": {},
   "outputs": [],
   "source": []
  },
  {
   "cell_type": "code",
   "execution_count": 31,
   "id": "2aa473df",
   "metadata": {},
   "outputs": [],
   "source": [
    "weekly_counts = weekly_counts.rename({'count':'weekly_total_rent'})\n",
    "\n",
    "#add weekly counts to the original dataset\n",
    "bike_rental_weekly_count = bike_rental.merge(weekly_counts, on = 'first_day_of_the_week', how='left') #add weekly counts"
   ]
  },
  {
   "cell_type": "code",
   "execution_count": 32,
   "id": "471bb69c",
   "metadata": {},
   "outputs": [
    {
     "data": {
      "text/plain": [
       "17355"
      ]
     },
     "execution_count": 32,
     "metadata": {},
     "output_type": "execute_result"
    }
   ],
   "source": [
    "len(bike_rental_weekly_count )"
   ]
  },
  {
   "cell_type": "code",
   "execution_count": 33,
   "id": "e2dcd16d",
   "metadata": {},
   "outputs": [
    {
     "data": {
      "text/plain": [
       "17355"
      ]
     },
     "execution_count": 33,
     "metadata": {},
     "output_type": "execute_result"
    }
   ],
   "source": [
    "len(bike_rental)"
   ]
  },
  {
   "cell_type": "code",
   "execution_count": 34,
   "id": "ca622b84",
   "metadata": {},
   "outputs": [],
   "source": [
    "bike_rental_weekly_count.to_excel('bike_rental_weekly_count.xlsx')"
   ]
  },
  {
   "cell_type": "markdown",
   "id": "7c5cfcd6",
   "metadata": {},
   "source": [
    "###### Based on original dataset"
   ]
  },
  {
   "cell_type": "code",
   "execution_count": 37,
   "id": "f27fa319",
   "metadata": {},
   "outputs": [
    {
     "name": "stdout",
     "output_type": "stream",
     "text": [
      "Defaulting to user installation because normal site-packages is not writeable\n",
      "Collecting skforecast\n",
      "  Downloading skforecast-0.4.3-py2.py3-none-any.whl (87 kB)\n",
      "\u001b[2K     \u001b[38;2;114;156;31m━━━━━━━━━━━━━━━━━━━━━━━━━━━━━━━━━━━━━━━━\u001b[0m \u001b[32m87.7/87.7 KB\u001b[0m \u001b[31m2.0 MB/s\u001b[0m eta \u001b[36m0:00:00\u001b[0m MB/s\u001b[0m eta \u001b[36m0:00:01\u001b[0m\n",
      "\u001b[?25hCollecting numpy<=1.22,>=1.20\n",
      "  Downloading numpy-1.22.0-cp310-cp310-manylinux_2_17_x86_64.manylinux2014_x86_64.whl (16.8 MB)\n",
      "\u001b[2K     \u001b[38;2;114;156;31m━━━━━━━━━━━━━━━━━━━━━━━━━━━━━━━━━━━━━━━━\u001b[0m \u001b[32m16.8/16.8 MB\u001b[0m \u001b[31m5.0 MB/s\u001b[0m eta \u001b[36m0:00:00\u001b[0mm eta \u001b[36m0:00:01\u001b[0m[36m0:00:01\u001b[0m\n",
      "\u001b[?25hCollecting tqdm<=4.62,>=4.57.0\n",
      "  Downloading tqdm-4.62.0-py2.py3-none-any.whl (76 kB)\n",
      "\u001b[2K     \u001b[38;2;114;156;31m━━━━━━━━━━━━━━━━━━━━━━━━━━━━━━━━━━━━━━━━\u001b[0m \u001b[32m76.0/76.0 KB\u001b[0m \u001b[31m3.3 MB/s\u001b[0m eta \u001b[36m0:00:00\u001b[0m\n",
      "\u001b[?25hCollecting statsmodels<=0.13,>=0.12\n",
      "  Downloading statsmodels-0.13.0.tar.gz (17.8 MB)\n",
      "\u001b[2K     \u001b[38;2;114;156;31m━━━━━━━━━━━━━━━━━━━━━━━━━━━━━━━━━━━━━━━━\u001b[0m \u001b[32m17.8/17.8 MB\u001b[0m \u001b[31m5.1 MB/s\u001b[0m eta \u001b[36m0:00:00\u001b[0mm eta \u001b[36m0:00:01\u001b[0m[36m0:00:01\u001b[0m\n",
      "\u001b[?25h  Installing build dependencies ... \u001b[?25ldone\n",
      "\u001b[?25h  Getting requirements to build wheel ... \u001b[?25ldone\n",
      "\u001b[?25h  Preparing metadata (pyproject.toml) ... \u001b[?25ldone\n",
      "\u001b[?25hRequirement already satisfied: scikit-learn>=1.0 in /home/saul/.local/lib/python3.10/site-packages (from skforecast) (1.1.0)\n",
      "Collecting pandas<=1.4,>=1.2\n",
      "  Downloading pandas-1.4.0-cp310-cp310-manylinux_2_17_x86_64.manylinux2014_x86_64.whl (11.7 MB)\n",
      "\u001b[2K     \u001b[38;2;114;156;31m━━━━━━━━━━━━━━━━━━━━━━━━━━━━━━━━━━━━━━━━\u001b[0m \u001b[32m11.7/11.7 MB\u001b[0m \u001b[31m4.5 MB/s\u001b[0m eta \u001b[36m0:00:00\u001b[0mm eta \u001b[36m0:00:01\u001b[0m0:01\u001b[0m:01\u001b[0m\n",
      "\u001b[?25hRequirement already satisfied: python-dateutil>=2.8.1 in /home/saul/.local/lib/python3.10/site-packages (from pandas<=1.4,>=1.2->skforecast) (2.8.2)\n",
      "Requirement already satisfied: pytz>=2020.1 in /usr/lib/python3/dist-packages (from pandas<=1.4,>=1.2->skforecast) (2022.1)\n",
      "Requirement already satisfied: scipy>=1.3.2 in /home/saul/.local/lib/python3.10/site-packages (from scikit-learn>=1.0->skforecast) (1.8.0)\n",
      "Requirement already satisfied: joblib>=1.0.0 in /home/saul/.local/lib/python3.10/site-packages (from scikit-learn>=1.0->skforecast) (1.1.0)\n",
      "Requirement already satisfied: threadpoolctl>=2.0.0 in /home/saul/.local/lib/python3.10/site-packages (from scikit-learn>=1.0->skforecast) (3.1.0)\n",
      "Requirement already satisfied: patsy>=0.5.2 in /home/saul/.local/lib/python3.10/site-packages (from statsmodels<=0.13,>=0.12->skforecast) (0.5.2)\n",
      "Requirement already satisfied: six in /usr/lib/python3/dist-packages (from patsy>=0.5.2->statsmodels<=0.13,>=0.12->skforecast) (1.16.0)\n",
      "Building wheels for collected packages: statsmodels\n",
      "  Building wheel for statsmodels (pyproject.toml) ... \u001b[?25ldone\n",
      "\u001b[?25h  Created wheel for statsmodels: filename=statsmodels-0.13.0-cp310-cp310-linux_x86_64.whl size=19859193 sha256=d459fe2097bd0ca331daa3e29aa181779dcf90e640b0933d8823191005b0e67d\n",
      "  Stored in directory: /home/saul/.cache/pip/wheels/ad/30/84/c052bf95214a1901b6ea959e60bf33aad07b2ec08f594deff0\n",
      "Successfully built statsmodels\n",
      "Installing collected packages: tqdm, numpy, pandas, statsmodels, skforecast\n",
      "  Attempting uninstall: tqdm\n",
      "    Found existing installation: tqdm 4.64.0\n",
      "    Uninstalling tqdm-4.64.0:\n",
      "      Successfully uninstalled tqdm-4.64.0\n",
      "  Attempting uninstall: numpy\n",
      "    Found existing installation: numpy 1.22.3\n",
      "    Uninstalling numpy-1.22.3:\n",
      "      Successfully uninstalled numpy-1.22.3\n",
      "  Attempting uninstall: pandas\n",
      "    Found existing installation: pandas 1.4.2\n",
      "    Uninstalling pandas-1.4.2:\n",
      "      Successfully uninstalled pandas-1.4.2\n",
      "  Attempting uninstall: statsmodels\n",
      "    Found existing installation: statsmodels 0.13.2\n",
      "    Uninstalling statsmodels-0.13.2:\n",
      "      Successfully uninstalled statsmodels-0.13.2\n",
      "Successfully installed numpy-1.22.0 pandas-1.4.0 skforecast-0.4.3 statsmodels-0.13.0 tqdm-4.62.0\n",
      "Note: you may need to restart the kernel to use updated packages.\n"
     ]
    }
   ],
   "source": [
    "pip install skforecast"
   ]
  },
  {
   "cell_type": "code",
   "execution_count": null,
   "id": "fe0b930a",
   "metadata": {},
   "outputs": [],
   "source": []
  }
 ],
 "metadata": {
  "kernelspec": {
   "display_name": "Python 3 (ipykernel)",
   "language": "python",
   "name": "python3"
  },
  "language_info": {
   "codemirror_mode": {
    "name": "ipython",
    "version": 3
   },
   "file_extension": ".py",
   "mimetype": "text/x-python",
   "name": "python",
   "nbconvert_exporter": "python",
   "pygments_lexer": "ipython3",
   "version": "3.10.4"
  }
 },
 "nbformat": 4,
 "nbformat_minor": 5
}
