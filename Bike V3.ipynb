{
 "cells": [
  {
   "cell_type": "code",
   "execution_count": 1,
   "id": "d01fbf72",
   "metadata": {},
   "outputs": [],
   "source": [
    "import pandas as pd\n",
    "import numpy as np\n",
    "#import statsmodels.api as sm\n",
    "import matplotlib\n",
    "from matplotlib import pyplot as plt\n",
    "from matplotlib import dates as mdates\n",
    "from datetime import datetime, timedelta\n",
    "import seaborn as sb\n",
    "import os\n",
    "os.chdir('/home/saul/python')\n",
    "\n",
    "\n",
    "from sklearn.linear_model import LinearRegression\n",
    "from sklearn.linear_model import Lasso\n",
    "from sklearn.ensemble import RandomForestRegressor\n",
    "from sklearn.metrics import mean_squared_error\n",
    "from sklearn.preprocessing import StandardScaler\n",
    "from sklearn.pipeline import make_pipeline\n",
    "\n",
    "from skforecast.ForecasterAutoreg import ForecasterAutoreg\n",
    "from skforecast.ForecasterAutoregCustom import ForecasterAutoregCustom\n",
    "from skforecast.ForecasterAutoregMultiOutput import ForecasterAutoregMultiOutput\n",
    "from skforecast.model_selection import grid_search_forecaster\n",
    "from skforecast.model_selection import backtesting_forecaster"
   ]
  },
  {
   "cell_type": "code",
   "execution_count": 2,
   "id": "2e699b90",
   "metadata": {},
   "outputs": [],
   "source": [
    "bike_rental = pd.read_csv('bike_rental_dataset.csv')"
   ]
  },
  {
   "cell_type": "markdown",
   "id": "f0e68580",
   "metadata": {},
   "source": [
    "### Data Preprocessing"
   ]
  },
  {
   "cell_type": "markdown",
   "id": "1c1fe28e",
   "metadata": {},
   "source": [
    "##### Convert date variable to data format"
   ]
  },
  {
   "cell_type": "code",
   "execution_count": 3,
   "id": "c85bf647",
   "metadata": {},
   "outputs": [],
   "source": [
    "bike_rental['date'] = bike_rental['datetime'].str.split(\" \").str[0]\n",
    "bike_rental['hour_mins'] = bike_rental['datetime'].str.split(\" \").str[1]\n",
    "\n",
    "bike_rental['date'] = bike_rental['date'].apply(lambda x: datetime.strptime(x, '%d/%m/%Y'))"
   ]
  },
  {
   "cell_type": "code",
   "execution_count": 4,
   "id": "2efa9a13",
   "metadata": {},
   "outputs": [
    {
     "data": {
      "text/plain": [
       "0       2011-01-01\n",
       "1       2011-01-01\n",
       "2       2011-01-01\n",
       "3       2011-01-01\n",
       "4       2011-01-01\n",
       "           ...    \n",
       "17345   2012-12-30\n",
       "17346   2012-12-30\n",
       "17347   2012-12-30\n",
       "17348   2012-12-30\n",
       "17349   2012-12-30\n",
       "Name: date, Length: 17350, dtype: datetime64[ns]"
      ]
     },
     "execution_count": 4,
     "metadata": {},
     "output_type": "execute_result"
    }
   ],
   "source": [
    "bike_rental['date'].head(-5)"
   ]
  },
  {
   "cell_type": "markdown",
   "id": "ae911bb2",
   "metadata": {},
   "source": [
    "###### Exclude days from 24/12/2012 onwards"
   ]
  },
  {
   "cell_type": "code",
   "execution_count": 5,
   "id": "85ee6765",
   "metadata": {},
   "outputs": [],
   "source": [
    "bike_rental = bike_rental[bike_rental['date'] < '2012-12-24']  # remove observation to be predicted"
   ]
  },
  {
   "cell_type": "code",
   "execution_count": 6,
   "id": "79857f8b",
   "metadata": {},
   "outputs": [
    {
     "data": {
      "text/plain": [
       "2011-01-01    24\n",
       "2012-06-26    24\n",
       "2012-04-23    24\n",
       "2012-04-24    24\n",
       "2012-04-25    24\n",
       "              ..\n",
       "2011-01-26    16\n",
       "2011-01-18    12\n",
       "2012-10-30    11\n",
       "2011-01-27     8\n",
       "2012-10-29     1\n",
       "Name: date, Length: 723, dtype: int64"
      ]
     },
     "execution_count": 6,
     "metadata": {},
     "output_type": "execute_result"
    }
   ],
   "source": [
    "bike_rental['date'].value_counts()"
   ]
  },
  {
   "cell_type": "code",
   "execution_count": null,
   "id": "09393be7",
   "metadata": {},
   "outputs": [],
   "source": []
  },
  {
   "cell_type": "markdown",
   "id": "c8e681be",
   "metadata": {},
   "source": [
    "###### Missing values"
   ]
  },
  {
   "cell_type": "code",
   "execution_count": 7,
   "id": "fb88e1f9",
   "metadata": {},
   "outputs": [
    {
     "name": "stdout",
     "output_type": "stream",
     "text": [
      "Number of rows with missing values: 0.000581767409389726\n"
     ]
    }
   ],
   "source": [
    "print(f'Number of rows with missing values: {bike_rental.isnull().any(axis=1).mean()}')"
   ]
  },
  {
   "cell_type": "code",
   "execution_count": 8,
   "id": "35265422",
   "metadata": {},
   "outputs": [],
   "source": [
    "get_missing_data = bike_rental[bike_rental.isnull().any(axis=1)]"
   ]
  },
  {
   "cell_type": "code",
   "execution_count": 9,
   "id": "4b810d9b",
   "metadata": {},
   "outputs": [
    {
     "data": {
      "text/html": [
       "<div>\n",
       "<style scoped>\n",
       "    .dataframe tbody tr th:only-of-type {\n",
       "        vertical-align: middle;\n",
       "    }\n",
       "\n",
       "    .dataframe tbody tr th {\n",
       "        vertical-align: top;\n",
       "    }\n",
       "\n",
       "    .dataframe thead th {\n",
       "        text-align: right;\n",
       "    }\n",
       "</style>\n",
       "<table border=\"1\" class=\"dataframe\">\n",
       "  <thead>\n",
       "    <tr style=\"text-align: right;\">\n",
       "      <th></th>\n",
       "      <th>datetime</th>\n",
       "      <th>season</th>\n",
       "      <th>holiday</th>\n",
       "      <th>workingday</th>\n",
       "      <th>weather</th>\n",
       "      <th>temp</th>\n",
       "      <th>atemp</th>\n",
       "      <th>humidity</th>\n",
       "      <th>windspeed</th>\n",
       "      <th>count</th>\n",
       "      <th>date</th>\n",
       "      <th>hour_mins</th>\n",
       "    </tr>\n",
       "  </thead>\n",
       "  <tbody>\n",
       "    <tr>\n",
       "      <th>14</th>\n",
       "      <td>1/01/2011 14:00</td>\n",
       "      <td>1</td>\n",
       "      <td>0</td>\n",
       "      <td>0</td>\n",
       "      <td>2</td>\n",
       "      <td>0.46</td>\n",
       "      <td>0.4545</td>\n",
       "      <td>NaN</td>\n",
       "      <td>0.2836</td>\n",
       "      <td>106.0</td>\n",
       "      <td>2011-01-01</td>\n",
       "      <td>14:00</td>\n",
       "    </tr>\n",
       "    <tr>\n",
       "      <th>56</th>\n",
       "      <td>3/01/2011 11:00</td>\n",
       "      <td>1</td>\n",
       "      <td>0</td>\n",
       "      <td>1</td>\n",
       "      <td>1</td>\n",
       "      <td>0.20</td>\n",
       "      <td>0.1818</td>\n",
       "      <td>NaN</td>\n",
       "      <td>0.3284</td>\n",
       "      <td>51.0</td>\n",
       "      <td>2011-01-03</td>\n",
       "      <td>11:00</td>\n",
       "    </tr>\n",
       "    <tr>\n",
       "      <th>93</th>\n",
       "      <td>5/01/2011 1:00</td>\n",
       "      <td>1</td>\n",
       "      <td>0</td>\n",
       "      <td>1</td>\n",
       "      <td>1</td>\n",
       "      <td>0.16</td>\n",
       "      <td>0.1970</td>\n",
       "      <td>NaN</td>\n",
       "      <td>0.0896</td>\n",
       "      <td>6.0</td>\n",
       "      <td>2011-01-05</td>\n",
       "      <td>1:00</td>\n",
       "    </tr>\n",
       "    <tr>\n",
       "      <th>166</th>\n",
       "      <td>8/01/2011 5:00</td>\n",
       "      <td>1</td>\n",
       "      <td>0</td>\n",
       "      <td>0</td>\n",
       "      <td>2</td>\n",
       "      <td>0.16</td>\n",
       "      <td>0.1667</td>\n",
       "      <td>NaN</td>\n",
       "      <td>0.1642</td>\n",
       "      <td>5.0</td>\n",
       "      <td>2011-01-08</td>\n",
       "      <td>5:00</td>\n",
       "    </tr>\n",
       "    <tr>\n",
       "      <th>762</th>\n",
       "      <td>4/02/2011 5:00</td>\n",
       "      <td>1</td>\n",
       "      <td>0</td>\n",
       "      <td>1</td>\n",
       "      <td>2</td>\n",
       "      <td>0.14</td>\n",
       "      <td>0.1515</td>\n",
       "      <td>NaN</td>\n",
       "      <td>0.1343</td>\n",
       "      <td>7.0</td>\n",
       "      <td>2011-02-04</td>\n",
       "      <td>5:00</td>\n",
       "    </tr>\n",
       "    <tr>\n",
       "      <th>3537</th>\n",
       "      <td>1/06/2011 7:00</td>\n",
       "      <td>2</td>\n",
       "      <td>0</td>\n",
       "      <td>1</td>\n",
       "      <td>2</td>\n",
       "      <td>0.70</td>\n",
       "      <td>0.6667</td>\n",
       "      <td>NaN</td>\n",
       "      <td>0.1642</td>\n",
       "      <td>284.0</td>\n",
       "      <td>2011-06-01</td>\n",
       "      <td>7:00</td>\n",
       "    </tr>\n",
       "    <tr>\n",
       "      <th>8796</th>\n",
       "      <td>7/01/2012 8:00</td>\n",
       "      <td>1</td>\n",
       "      <td>0</td>\n",
       "      <td>0</td>\n",
       "      <td>1</td>\n",
       "      <td>0.24</td>\n",
       "      <td>0.2576</td>\n",
       "      <td>NaN</td>\n",
       "      <td>0.1045</td>\n",
       "      <td>64.0</td>\n",
       "      <td>2012-01-07</td>\n",
       "      <td>8:00</td>\n",
       "    </tr>\n",
       "    <tr>\n",
       "      <th>13102</th>\n",
       "      <td>5/07/2012 3:00</td>\n",
       "      <td>3</td>\n",
       "      <td>0</td>\n",
       "      <td>1</td>\n",
       "      <td>1</td>\n",
       "      <td>0.72</td>\n",
       "      <td>0.6667</td>\n",
       "      <td>NaN</td>\n",
       "      <td>0.1940</td>\n",
       "      <td>7.0</td>\n",
       "      <td>2012-07-05</td>\n",
       "      <td>3:00</td>\n",
       "    </tr>\n",
       "    <tr>\n",
       "      <th>15947</th>\n",
       "      <td>2/11/2012 4:00</td>\n",
       "      <td>4</td>\n",
       "      <td>0</td>\n",
       "      <td>1</td>\n",
       "      <td>1</td>\n",
       "      <td>0.30</td>\n",
       "      <td>0.3182</td>\n",
       "      <td>NaN</td>\n",
       "      <td>0.1045</td>\n",
       "      <td>7.0</td>\n",
       "      <td>2012-11-02</td>\n",
       "      <td>4:00</td>\n",
       "    </tr>\n",
       "    <tr>\n",
       "      <th>16505</th>\n",
       "      <td>25/11/2012 11:00</td>\n",
       "      <td>4</td>\n",
       "      <td>0</td>\n",
       "      <td>0</td>\n",
       "      <td>2</td>\n",
       "      <td>0.26</td>\n",
       "      <td>0.2576</td>\n",
       "      <td>NaN</td>\n",
       "      <td>0.2239</td>\n",
       "      <td>204.0</td>\n",
       "      <td>2012-11-25</td>\n",
       "      <td>11:00</td>\n",
       "    </tr>\n",
       "  </tbody>\n",
       "</table>\n",
       "</div>"
      ],
      "text/plain": [
       "               datetime  season  holiday  workingday  weather  temp   atemp  \\\n",
       "14      1/01/2011 14:00       1        0           0        2  0.46  0.4545   \n",
       "56      3/01/2011 11:00       1        0           1        1  0.20  0.1818   \n",
       "93       5/01/2011 1:00       1        0           1        1  0.16  0.1970   \n",
       "166      8/01/2011 5:00       1        0           0        2  0.16  0.1667   \n",
       "762      4/02/2011 5:00       1        0           1        2  0.14  0.1515   \n",
       "3537     1/06/2011 7:00       2        0           1        2  0.70  0.6667   \n",
       "8796     7/01/2012 8:00       1        0           0        1  0.24  0.2576   \n",
       "13102    5/07/2012 3:00       3        0           1        1  0.72  0.6667   \n",
       "15947    2/11/2012 4:00       4        0           1        1  0.30  0.3182   \n",
       "16505  25/11/2012 11:00       4        0           0        2  0.26  0.2576   \n",
       "\n",
       "       humidity  windspeed  count       date hour_mins  \n",
       "14          NaN     0.2836  106.0 2011-01-01     14:00  \n",
       "56          NaN     0.3284   51.0 2011-01-03     11:00  \n",
       "93          NaN     0.0896    6.0 2011-01-05      1:00  \n",
       "166         NaN     0.1642    5.0 2011-01-08      5:00  \n",
       "762         NaN     0.1343    7.0 2011-02-04      5:00  \n",
       "3537        NaN     0.1642  284.0 2011-06-01      7:00  \n",
       "8796        NaN     0.1045   64.0 2012-01-07      8:00  \n",
       "13102       NaN     0.1940    7.0 2012-07-05      3:00  \n",
       "15947       NaN     0.1045    7.0 2012-11-02      4:00  \n",
       "16505       NaN     0.2239  204.0 2012-11-25     11:00  "
      ]
     },
     "execution_count": 9,
     "metadata": {},
     "output_type": "execute_result"
    }
   ],
   "source": [
    "get_missing_data # show missing values in the dataset"
   ]
  },
  {
   "cell_type": "markdown",
   "id": "de4c3d69",
   "metadata": {},
   "source": [
    "###### Replace NaN  values with zero in the dataset"
   ]
  },
  {
   "cell_type": "code",
   "execution_count": 10,
   "id": "0dc6a7b7",
   "metadata": {},
   "outputs": [],
   "source": [
    "bike_rental = bike_rental.replace(np.nan, 0)"
   ]
  },
  {
   "cell_type": "code",
   "execution_count": 11,
   "id": "5c57f9ce",
   "metadata": {},
   "outputs": [],
   "source": [
    "get_missing_data = bike_rental[bike_rental.isnull().any(axis=1)]"
   ]
  },
  {
   "cell_type": "code",
   "execution_count": 12,
   "id": "24f77a50",
   "metadata": {},
   "outputs": [
    {
     "data": {
      "text/html": [
       "<div>\n",
       "<style scoped>\n",
       "    .dataframe tbody tr th:only-of-type {\n",
       "        vertical-align: middle;\n",
       "    }\n",
       "\n",
       "    .dataframe tbody tr th {\n",
       "        vertical-align: top;\n",
       "    }\n",
       "\n",
       "    .dataframe thead th {\n",
       "        text-align: right;\n",
       "    }\n",
       "</style>\n",
       "<table border=\"1\" class=\"dataframe\">\n",
       "  <thead>\n",
       "    <tr style=\"text-align: right;\">\n",
       "      <th></th>\n",
       "      <th>datetime</th>\n",
       "      <th>season</th>\n",
       "      <th>holiday</th>\n",
       "      <th>workingday</th>\n",
       "      <th>weather</th>\n",
       "      <th>temp</th>\n",
       "      <th>atemp</th>\n",
       "      <th>humidity</th>\n",
       "      <th>windspeed</th>\n",
       "      <th>count</th>\n",
       "      <th>date</th>\n",
       "      <th>hour_mins</th>\n",
       "    </tr>\n",
       "  </thead>\n",
       "  <tbody>\n",
       "  </tbody>\n",
       "</table>\n",
       "</div>"
      ],
      "text/plain": [
       "Empty DataFrame\n",
       "Columns: [datetime, season, holiday, workingday, weather, temp, atemp, humidity, windspeed, count, date, hour_mins]\n",
       "Index: []"
      ]
     },
     "execution_count": 12,
     "metadata": {},
     "output_type": "execute_result"
    }
   ],
   "source": [
    "get_missing_data # show missing values in the dataset"
   ]
  },
  {
   "cell_type": "code",
   "execution_count": 13,
   "id": "7e8690d1",
   "metadata": {},
   "outputs": [
    {
     "name": "stdout",
     "output_type": "stream",
     "text": [
      "Number of rows with missing values: 0.0\n"
     ]
    }
   ],
   "source": [
    "print(f'Number of rows with missing values: {bike_rental.isnull().any(axis=1).mean()}')"
   ]
  },
  {
   "cell_type": "code",
   "execution_count": 14,
   "id": "16a8c15b",
   "metadata": {},
   "outputs": [
    {
     "name": "stdout",
     "output_type": "stream",
     "text": [
      "<class 'pandas.core.frame.DataFrame'>\n",
      "Int64Index: 17189 entries, 0 to 17188\n",
      "Data columns (total 12 columns):\n",
      " #   Column      Non-Null Count  Dtype         \n",
      "---  ------      --------------  -----         \n",
      " 0   datetime    17189 non-null  object        \n",
      " 1   season      17189 non-null  int64         \n",
      " 2   holiday     17189 non-null  int64         \n",
      " 3   workingday  17189 non-null  int64         \n",
      " 4   weather     17189 non-null  int64         \n",
      " 5   temp        17189 non-null  float64       \n",
      " 6   atemp       17189 non-null  float64       \n",
      " 7   humidity    17189 non-null  float64       \n",
      " 8   windspeed   17189 non-null  float64       \n",
      " 9   count       17189 non-null  float64       \n",
      " 10  date        17189 non-null  datetime64[ns]\n",
      " 11  hour_mins   17189 non-null  object        \n",
      "dtypes: datetime64[ns](1), float64(5), int64(4), object(2)\n",
      "memory usage: 1.7+ MB\n"
     ]
    }
   ],
   "source": [
    "bike_rental.info()"
   ]
  },
  {
   "cell_type": "markdown",
   "id": "da8d4c51",
   "metadata": {},
   "source": [
    "###### rename season values meaningful name"
   ]
  },
  {
   "cell_type": "code",
   "execution_count": 18,
   "id": "c020fab7",
   "metadata": {},
   "outputs": [],
   "source": [
    "\n",
    "bike_rental['season'] = bike_rental['season'].replace('1', 'Spring')\n",
    "\n",
    "bike_rental['season'] = bike_rental['season'].replace('2', 'Summer')\n",
    "bike_rental['season'] = bike_rental['season'].replace('3', 'Fall')\n",
    "bike_rental['season'] = bike_rental['season'].replace('4', 'Winter')"
   ]
  },
  {
   "cell_type": "markdown",
   "id": "45f9af80",
   "metadata": {},
   "source": [
    "###### Convert numerical values to categorical"
   ]
  },
  {
   "cell_type": "code",
   "execution_count": 19,
   "id": "2ffdce77",
   "metadata": {},
   "outputs": [],
   "source": [
    "bike_rental = bike_rental.astype({'season':'string', 'holiday':'category', 'workingday':'category', \n",
    "                                  'weather':'category'})"
   ]
  },
  {
   "cell_type": "code",
   "execution_count": 20,
   "id": "cc109541",
   "metadata": {},
   "outputs": [
    {
     "data": {
      "text/plain": [
       "Fall      4496\n",
       "Summer    4409\n",
       "Winter    4232\n",
       "Spring    4052\n",
       "Name: season, dtype: Int64"
      ]
     },
     "execution_count": 20,
     "metadata": {},
     "output_type": "execute_result"
    }
   ],
   "source": [
    "bike_rental['season'].value_counts()"
   ]
  },
  {
   "cell_type": "code",
   "execution_count": 21,
   "id": "dd36a54a",
   "metadata": {},
   "outputs": [
    {
     "data": {
      "text/html": [
       "<div>\n",
       "<style scoped>\n",
       "    .dataframe tbody tr th:only-of-type {\n",
       "        vertical-align: middle;\n",
       "    }\n",
       "\n",
       "    .dataframe tbody tr th {\n",
       "        vertical-align: top;\n",
       "    }\n",
       "\n",
       "    .dataframe thead th {\n",
       "        text-align: right;\n",
       "    }\n",
       "</style>\n",
       "<table border=\"1\" class=\"dataframe\">\n",
       "  <thead>\n",
       "    <tr style=\"text-align: right;\">\n",
       "      <th></th>\n",
       "      <th>datetime</th>\n",
       "      <th>season</th>\n",
       "      <th>holiday</th>\n",
       "      <th>workingday</th>\n",
       "      <th>weather</th>\n",
       "      <th>temp</th>\n",
       "      <th>atemp</th>\n",
       "      <th>humidity</th>\n",
       "      <th>windspeed</th>\n",
       "      <th>count</th>\n",
       "      <th>date</th>\n",
       "      <th>hour_mins</th>\n",
       "    </tr>\n",
       "  </thead>\n",
       "  <tbody>\n",
       "    <tr>\n",
       "      <th>0</th>\n",
       "      <td>1/01/2011 0:00</td>\n",
       "      <td>Spring</td>\n",
       "      <td>0</td>\n",
       "      <td>0</td>\n",
       "      <td>1</td>\n",
       "      <td>0.24</td>\n",
       "      <td>0.2879</td>\n",
       "      <td>0.81</td>\n",
       "      <td>0.0</td>\n",
       "      <td>16.0</td>\n",
       "      <td>2011-01-01</td>\n",
       "      <td>0:00</td>\n",
       "    </tr>\n",
       "    <tr>\n",
       "      <th>1</th>\n",
       "      <td>1/01/2011 1:00</td>\n",
       "      <td>Spring</td>\n",
       "      <td>0</td>\n",
       "      <td>0</td>\n",
       "      <td>1</td>\n",
       "      <td>0.22</td>\n",
       "      <td>0.2727</td>\n",
       "      <td>0.80</td>\n",
       "      <td>0.0</td>\n",
       "      <td>40.0</td>\n",
       "      <td>2011-01-01</td>\n",
       "      <td>1:00</td>\n",
       "    </tr>\n",
       "    <tr>\n",
       "      <th>2</th>\n",
       "      <td>1/01/2011 2:00</td>\n",
       "      <td>Spring</td>\n",
       "      <td>0</td>\n",
       "      <td>0</td>\n",
       "      <td>1</td>\n",
       "      <td>0.22</td>\n",
       "      <td>0.2727</td>\n",
       "      <td>0.80</td>\n",
       "      <td>0.0</td>\n",
       "      <td>32.0</td>\n",
       "      <td>2011-01-01</td>\n",
       "      <td>2:00</td>\n",
       "    </tr>\n",
       "    <tr>\n",
       "      <th>3</th>\n",
       "      <td>1/01/2011 3:00</td>\n",
       "      <td>Spring</td>\n",
       "      <td>0</td>\n",
       "      <td>0</td>\n",
       "      <td>1</td>\n",
       "      <td>0.24</td>\n",
       "      <td>0.2879</td>\n",
       "      <td>0.75</td>\n",
       "      <td>0.0</td>\n",
       "      <td>13.0</td>\n",
       "      <td>2011-01-01</td>\n",
       "      <td>3:00</td>\n",
       "    </tr>\n",
       "    <tr>\n",
       "      <th>4</th>\n",
       "      <td>1/01/2011 4:00</td>\n",
       "      <td>Spring</td>\n",
       "      <td>0</td>\n",
       "      <td>0</td>\n",
       "      <td>1</td>\n",
       "      <td>0.24</td>\n",
       "      <td>0.2879</td>\n",
       "      <td>0.75</td>\n",
       "      <td>0.0</td>\n",
       "      <td>1.0</td>\n",
       "      <td>2011-01-01</td>\n",
       "      <td>4:00</td>\n",
       "    </tr>\n",
       "  </tbody>\n",
       "</table>\n",
       "</div>"
      ],
      "text/plain": [
       "         datetime  season holiday workingday weather  temp   atemp  humidity  \\\n",
       "0  1/01/2011 0:00  Spring       0          0       1  0.24  0.2879      0.81   \n",
       "1  1/01/2011 1:00  Spring       0          0       1  0.22  0.2727      0.80   \n",
       "2  1/01/2011 2:00  Spring       0          0       1  0.22  0.2727      0.80   \n",
       "3  1/01/2011 3:00  Spring       0          0       1  0.24  0.2879      0.75   \n",
       "4  1/01/2011 4:00  Spring       0          0       1  0.24  0.2879      0.75   \n",
       "\n",
       "   windspeed  count       date hour_mins  \n",
       "0        0.0   16.0 2011-01-01      0:00  \n",
       "1        0.0   40.0 2011-01-01      1:00  \n",
       "2        0.0   32.0 2011-01-01      2:00  \n",
       "3        0.0   13.0 2011-01-01      3:00  \n",
       "4        0.0    1.0 2011-01-01      4:00  "
      ]
     },
     "execution_count": 21,
     "metadata": {},
     "output_type": "execute_result"
    }
   ],
   "source": [
    "bike_rental.head(5)"
   ]
  },
  {
   "cell_type": "code",
   "execution_count": 22,
   "id": "e2314d1e",
   "metadata": {},
   "outputs": [
    {
     "data": {
      "text/html": [
       "<div>\n",
       "<style scoped>\n",
       "    .dataframe tbody tr th:only-of-type {\n",
       "        vertical-align: middle;\n",
       "    }\n",
       "\n",
       "    .dataframe tbody tr th {\n",
       "        vertical-align: top;\n",
       "    }\n",
       "\n",
       "    .dataframe thead th {\n",
       "        text-align: right;\n",
       "    }\n",
       "</style>\n",
       "<table border=\"1\" class=\"dataframe\">\n",
       "  <thead>\n",
       "    <tr style=\"text-align: right;\">\n",
       "      <th></th>\n",
       "      <th>temp</th>\n",
       "      <th>atemp</th>\n",
       "      <th>humidity</th>\n",
       "      <th>windspeed</th>\n",
       "      <th>count</th>\n",
       "    </tr>\n",
       "  </thead>\n",
       "  <tbody>\n",
       "    <tr>\n",
       "      <th>count</th>\n",
       "      <td>17189.000000</td>\n",
       "      <td>17189.000000</td>\n",
       "      <td>17189.000000</td>\n",
       "      <td>17189.000000</td>\n",
       "      <td>17189.000000</td>\n",
       "    </tr>\n",
       "    <tr>\n",
       "      <th>mean</th>\n",
       "      <td>0.499721</td>\n",
       "      <td>0.478339</td>\n",
       "      <td>0.626329</td>\n",
       "      <td>0.189842</td>\n",
       "      <td>190.774914</td>\n",
       "    </tr>\n",
       "    <tr>\n",
       "      <th>std</th>\n",
       "      <td>0.191798</td>\n",
       "      <td>0.170996</td>\n",
       "      <td>0.193792</td>\n",
       "      <td>0.122048</td>\n",
       "      <td>181.805639</td>\n",
       "    </tr>\n",
       "    <tr>\n",
       "      <th>min</th>\n",
       "      <td>0.020000</td>\n",
       "      <td>0.000000</td>\n",
       "      <td>0.000000</td>\n",
       "      <td>0.000000</td>\n",
       "      <td>1.000000</td>\n",
       "    </tr>\n",
       "    <tr>\n",
       "      <th>25%</th>\n",
       "      <td>0.340000</td>\n",
       "      <td>0.333300</td>\n",
       "      <td>0.470000</td>\n",
       "      <td>0.104500</td>\n",
       "      <td>41.000000</td>\n",
       "    </tr>\n",
       "    <tr>\n",
       "      <th>50%</th>\n",
       "      <td>0.500000</td>\n",
       "      <td>0.484800</td>\n",
       "      <td>0.630000</td>\n",
       "      <td>0.194000</td>\n",
       "      <td>144.000000</td>\n",
       "    </tr>\n",
       "    <tr>\n",
       "      <th>75%</th>\n",
       "      <td>0.660000</td>\n",
       "      <td>0.621200</td>\n",
       "      <td>0.780000</td>\n",
       "      <td>0.253700</td>\n",
       "      <td>282.000000</td>\n",
       "    </tr>\n",
       "    <tr>\n",
       "      <th>max</th>\n",
       "      <td>1.000000</td>\n",
       "      <td>1.000000</td>\n",
       "      <td>1.000000</td>\n",
       "      <td>0.850700</td>\n",
       "      <td>977.000000</td>\n",
       "    </tr>\n",
       "  </tbody>\n",
       "</table>\n",
       "</div>"
      ],
      "text/plain": [
       "               temp         atemp      humidity     windspeed         count\n",
       "count  17189.000000  17189.000000  17189.000000  17189.000000  17189.000000\n",
       "mean       0.499721      0.478339      0.626329      0.189842    190.774914\n",
       "std        0.191798      0.170996      0.193792      0.122048    181.805639\n",
       "min        0.020000      0.000000      0.000000      0.000000      1.000000\n",
       "25%        0.340000      0.333300      0.470000      0.104500     41.000000\n",
       "50%        0.500000      0.484800      0.630000      0.194000    144.000000\n",
       "75%        0.660000      0.621200      0.780000      0.253700    282.000000\n",
       "max        1.000000      1.000000      1.000000      0.850700    977.000000"
      ]
     },
     "execution_count": 22,
     "metadata": {},
     "output_type": "execute_result"
    }
   ],
   "source": [
    "bike_rental.describe()"
   ]
  },
  {
   "cell_type": "code",
   "execution_count": 23,
   "id": "25b8d412",
   "metadata": {},
   "outputs": [
    {
     "name": "stdout",
     "output_type": "stream",
     "text": [
      "<class 'pandas.core.frame.DataFrame'>\n",
      "Int64Index: 17189 entries, 0 to 17188\n",
      "Data columns (total 12 columns):\n",
      " #   Column      Non-Null Count  Dtype         \n",
      "---  ------      --------------  -----         \n",
      " 0   datetime    17189 non-null  object        \n",
      " 1   season      17189 non-null  string        \n",
      " 2   holiday     17189 non-null  category      \n",
      " 3   workingday  17189 non-null  category      \n",
      " 4   weather     17189 non-null  category      \n",
      " 5   temp        17189 non-null  float64       \n",
      " 6   atemp       17189 non-null  float64       \n",
      " 7   humidity    17189 non-null  float64       \n",
      " 8   windspeed   17189 non-null  float64       \n",
      " 9   count       17189 non-null  float64       \n",
      " 10  date        17189 non-null  datetime64[ns]\n",
      " 11  hour_mins   17189 non-null  object        \n",
      "dtypes: category(3), datetime64[ns](1), float64(5), object(2), string(1)\n",
      "memory usage: 1.4+ MB\n"
     ]
    }
   ],
   "source": [
    "bike_rental.info()"
   ]
  },
  {
   "cell_type": "code",
   "execution_count": 24,
   "id": "435c5c2c",
   "metadata": {},
   "outputs": [
    {
     "data": {
      "text/plain": [
       "2011-01-01    24\n",
       "2012-06-26    24\n",
       "2012-04-23    24\n",
       "2012-04-24    24\n",
       "2012-04-25    24\n",
       "              ..\n",
       "2011-01-26    16\n",
       "2011-01-18    12\n",
       "2012-10-30    11\n",
       "2011-01-27     8\n",
       "2012-10-29     1\n",
       "Name: date, Length: 723, dtype: int64"
      ]
     },
     "execution_count": 24,
     "metadata": {},
     "output_type": "execute_result"
    }
   ],
   "source": [
    "bike_rental['date'].value_counts()"
   ]
  },
  {
   "cell_type": "markdown",
   "id": "04d1bc5b",
   "metadata": {},
   "source": [
    "###### Get daily bike total counts"
   ]
  },
  {
   "cell_type": "code",
   "execution_count": 25,
   "id": "d758705d",
   "metadata": {},
   "outputs": [],
   "source": [
    "daily_counts = pd.pivot_table(bike_rental, values = 'count', index=['date'], aggfunc= 'sum').reset_index()"
   ]
  },
  {
   "cell_type": "code",
   "execution_count": 26,
   "id": "c558bdd3",
   "metadata": {},
   "outputs": [],
   "source": [
    "daily_counts = pd.DataFrame(daily_counts.to_records())\n",
    "daily_counts = daily_counts.rename(columns={'count':'daily_total_rent'})"
   ]
  },
  {
   "cell_type": "code",
   "execution_count": 27,
   "id": "ae3cfbf4",
   "metadata": {},
   "outputs": [
    {
     "data": {
      "text/plain": [
       "Index(['index', 'date', 'daily_total_rent'], dtype='object')"
      ]
     },
     "execution_count": 27,
     "metadata": {},
     "output_type": "execute_result"
    }
   ],
   "source": [
    "daily_counts.columns"
   ]
  },
  {
   "cell_type": "markdown",
   "id": "cfe9e4e4",
   "metadata": {},
   "source": [
    "###### Get start of each week"
   ]
  },
  {
   "cell_type": "code",
   "execution_count": 28,
   "id": "bbca347f",
   "metadata": {},
   "outputs": [],
   "source": [
    "bike_rental['day_of_week'] = bike_rental['date'].dt.dayofweek\n",
    "\n",
    "bike_rental[\"first_day_of_the_week\"] = bike_rental.date - bike_rental.day_of_week * timedelta(days=1) # Get First day of Week"
   ]
  },
  {
   "cell_type": "code",
   "execution_count": 29,
   "id": "2c6e2564",
   "metadata": {},
   "outputs": [
    {
     "data": {
      "text/html": [
       "<div>\n",
       "<style scoped>\n",
       "    .dataframe tbody tr th:only-of-type {\n",
       "        vertical-align: middle;\n",
       "    }\n",
       "\n",
       "    .dataframe tbody tr th {\n",
       "        vertical-align: top;\n",
       "    }\n",
       "\n",
       "    .dataframe thead th {\n",
       "        text-align: right;\n",
       "    }\n",
       "</style>\n",
       "<table border=\"1\" class=\"dataframe\">\n",
       "  <thead>\n",
       "    <tr style=\"text-align: right;\">\n",
       "      <th></th>\n",
       "      <th>datetime</th>\n",
       "      <th>season</th>\n",
       "      <th>holiday</th>\n",
       "      <th>workingday</th>\n",
       "      <th>weather</th>\n",
       "      <th>temp</th>\n",
       "      <th>atemp</th>\n",
       "      <th>humidity</th>\n",
       "      <th>windspeed</th>\n",
       "      <th>count</th>\n",
       "      <th>date</th>\n",
       "      <th>hour_mins</th>\n",
       "      <th>day_of_week</th>\n",
       "      <th>first_day_of_the_week</th>\n",
       "    </tr>\n",
       "  </thead>\n",
       "  <tbody>\n",
       "    <tr>\n",
       "      <th>0</th>\n",
       "      <td>1/01/2011 0:00</td>\n",
       "      <td>Spring</td>\n",
       "      <td>0</td>\n",
       "      <td>0</td>\n",
       "      <td>1</td>\n",
       "      <td>0.24</td>\n",
       "      <td>0.2879</td>\n",
       "      <td>0.81</td>\n",
       "      <td>0.0</td>\n",
       "      <td>16.0</td>\n",
       "      <td>2011-01-01</td>\n",
       "      <td>0:00</td>\n",
       "      <td>5</td>\n",
       "      <td>2010-12-27</td>\n",
       "    </tr>\n",
       "    <tr>\n",
       "      <th>1</th>\n",
       "      <td>1/01/2011 1:00</td>\n",
       "      <td>Spring</td>\n",
       "      <td>0</td>\n",
       "      <td>0</td>\n",
       "      <td>1</td>\n",
       "      <td>0.22</td>\n",
       "      <td>0.2727</td>\n",
       "      <td>0.80</td>\n",
       "      <td>0.0</td>\n",
       "      <td>40.0</td>\n",
       "      <td>2011-01-01</td>\n",
       "      <td>1:00</td>\n",
       "      <td>5</td>\n",
       "      <td>2010-12-27</td>\n",
       "    </tr>\n",
       "    <tr>\n",
       "      <th>2</th>\n",
       "      <td>1/01/2011 2:00</td>\n",
       "      <td>Spring</td>\n",
       "      <td>0</td>\n",
       "      <td>0</td>\n",
       "      <td>1</td>\n",
       "      <td>0.22</td>\n",
       "      <td>0.2727</td>\n",
       "      <td>0.80</td>\n",
       "      <td>0.0</td>\n",
       "      <td>32.0</td>\n",
       "      <td>2011-01-01</td>\n",
       "      <td>2:00</td>\n",
       "      <td>5</td>\n",
       "      <td>2010-12-27</td>\n",
       "    </tr>\n",
       "    <tr>\n",
       "      <th>3</th>\n",
       "      <td>1/01/2011 3:00</td>\n",
       "      <td>Spring</td>\n",
       "      <td>0</td>\n",
       "      <td>0</td>\n",
       "      <td>1</td>\n",
       "      <td>0.24</td>\n",
       "      <td>0.2879</td>\n",
       "      <td>0.75</td>\n",
       "      <td>0.0</td>\n",
       "      <td>13.0</td>\n",
       "      <td>2011-01-01</td>\n",
       "      <td>3:00</td>\n",
       "      <td>5</td>\n",
       "      <td>2010-12-27</td>\n",
       "    </tr>\n",
       "    <tr>\n",
       "      <th>4</th>\n",
       "      <td>1/01/2011 4:00</td>\n",
       "      <td>Spring</td>\n",
       "      <td>0</td>\n",
       "      <td>0</td>\n",
       "      <td>1</td>\n",
       "      <td>0.24</td>\n",
       "      <td>0.2879</td>\n",
       "      <td>0.75</td>\n",
       "      <td>0.0</td>\n",
       "      <td>1.0</td>\n",
       "      <td>2011-01-01</td>\n",
       "      <td>4:00</td>\n",
       "      <td>5</td>\n",
       "      <td>2010-12-27</td>\n",
       "    </tr>\n",
       "  </tbody>\n",
       "</table>\n",
       "</div>"
      ],
      "text/plain": [
       "         datetime  season holiday workingday weather  temp   atemp  humidity  \\\n",
       "0  1/01/2011 0:00  Spring       0          0       1  0.24  0.2879      0.81   \n",
       "1  1/01/2011 1:00  Spring       0          0       1  0.22  0.2727      0.80   \n",
       "2  1/01/2011 2:00  Spring       0          0       1  0.22  0.2727      0.80   \n",
       "3  1/01/2011 3:00  Spring       0          0       1  0.24  0.2879      0.75   \n",
       "4  1/01/2011 4:00  Spring       0          0       1  0.24  0.2879      0.75   \n",
       "\n",
       "   windspeed  count       date hour_mins  day_of_week first_day_of_the_week  \n",
       "0        0.0   16.0 2011-01-01      0:00            5            2010-12-27  \n",
       "1        0.0   40.0 2011-01-01      1:00            5            2010-12-27  \n",
       "2        0.0   32.0 2011-01-01      2:00            5            2010-12-27  \n",
       "3        0.0   13.0 2011-01-01      3:00            5            2010-12-27  \n",
       "4        0.0    1.0 2011-01-01      4:00            5            2010-12-27  "
      ]
     },
     "execution_count": 29,
     "metadata": {},
     "output_type": "execute_result"
    }
   ],
   "source": [
    "bike_rental.head(5)"
   ]
  },
  {
   "cell_type": "markdown",
   "id": "2239befe",
   "metadata": {},
   "source": [
    "###### Get weekly bike rents"
   ]
  },
  {
   "cell_type": "code",
   "execution_count": 30,
   "id": "6db1388c",
   "metadata": {},
   "outputs": [],
   "source": [
    "weekly_counts = pd.pivot_table(bike_rental, values = 'count', index=['first_day_of_the_week'], aggfunc= 'sum').reset_index()\n",
    "\n",
    "weekly_counts = pd.DataFrame(weekly_counts.to_records())\n",
    "weekly_counts = weekly_counts.rename(columns={'count':'weekly_total_rent'})"
   ]
  },
  {
   "cell_type": "code",
   "execution_count": 31,
   "id": "f2735220",
   "metadata": {},
   "outputs": [],
   "source": [
    "weekly_counts.to_csv('weekly_bike_counts.csv', index=False)"
   ]
  },
  {
   "cell_type": "code",
   "execution_count": 32,
   "id": "d5cf463e",
   "metadata": {},
   "outputs": [
    {
     "data": {
      "text/html": [
       "<div>\n",
       "<style scoped>\n",
       "    .dataframe tbody tr th:only-of-type {\n",
       "        vertical-align: middle;\n",
       "    }\n",
       "\n",
       "    .dataframe tbody tr th {\n",
       "        vertical-align: top;\n",
       "    }\n",
       "\n",
       "    .dataframe thead th {\n",
       "        text-align: right;\n",
       "    }\n",
       "</style>\n",
       "<table border=\"1\" class=\"dataframe\">\n",
       "  <thead>\n",
       "    <tr style=\"text-align: right;\">\n",
       "      <th></th>\n",
       "      <th>index</th>\n",
       "      <th>weekly_total_rent</th>\n",
       "    </tr>\n",
       "  </thead>\n",
       "  <tbody>\n",
       "    <tr>\n",
       "      <th>count</th>\n",
       "      <td>104.000000</td>\n",
       "      <td>104.000000</td>\n",
       "    </tr>\n",
       "    <tr>\n",
       "      <th>mean</th>\n",
       "      <td>51.500000</td>\n",
       "      <td>31531.057692</td>\n",
       "    </tr>\n",
       "    <tr>\n",
       "      <th>std</th>\n",
       "      <td>30.166206</td>\n",
       "      <td>12449.390349</td>\n",
       "    </tr>\n",
       "    <tr>\n",
       "      <th>min</th>\n",
       "      <td>0.000000</td>\n",
       "      <td>1786.000000</td>\n",
       "    </tr>\n",
       "    <tr>\n",
       "      <th>25%</th>\n",
       "      <td>25.750000</td>\n",
       "      <td>23658.500000</td>\n",
       "    </tr>\n",
       "    <tr>\n",
       "      <th>50%</th>\n",
       "      <td>51.500000</td>\n",
       "      <td>30982.000000</td>\n",
       "    </tr>\n",
       "    <tr>\n",
       "      <th>75%</th>\n",
       "      <td>77.250000</td>\n",
       "      <td>42433.250000</td>\n",
       "    </tr>\n",
       "    <tr>\n",
       "      <th>max</th>\n",
       "      <td>103.000000</td>\n",
       "      <td>55022.000000</td>\n",
       "    </tr>\n",
       "  </tbody>\n",
       "</table>\n",
       "</div>"
      ],
      "text/plain": [
       "            index  weekly_total_rent\n",
       "count  104.000000         104.000000\n",
       "mean    51.500000       31531.057692\n",
       "std     30.166206       12449.390349\n",
       "min      0.000000        1786.000000\n",
       "25%     25.750000       23658.500000\n",
       "50%     51.500000       30982.000000\n",
       "75%     77.250000       42433.250000\n",
       "max    103.000000       55022.000000"
      ]
     },
     "execution_count": 32,
     "metadata": {},
     "output_type": "execute_result"
    }
   ],
   "source": [
    "weekly_counts.describe() # Weekly bike rent quintiles"
   ]
  },
  {
   "cell_type": "code",
   "execution_count": 33,
   "id": "97b6f939",
   "metadata": {},
   "outputs": [
    {
     "data": {
      "text/plain": [
       "Index(['datetime', 'season', 'holiday', 'workingday', 'weather', 'temp',\n",
       "       'atemp', 'humidity', 'windspeed', 'count', 'date', 'hour_mins',\n",
       "       'day_of_week', 'first_day_of_the_week'],\n",
       "      dtype='object')"
      ]
     },
     "execution_count": 33,
     "metadata": {},
     "output_type": "execute_result"
    }
   ],
   "source": [
    "bike_rental.columns"
   ]
  },
  {
   "cell_type": "markdown",
   "id": "905ed2ef",
   "metadata": {},
   "source": [
    "##### Plot daily bike rental in time series"
   ]
  },
  {
   "cell_type": "code",
   "execution_count": 34,
   "id": "6cb0657a",
   "metadata": {},
   "outputs": [
    {
     "data": {
      "image/png": "[encoded data removed]",
      "text/plain": [
       "<Figure size 1080x504 with 1 Axes>"
      ]
     },
     "metadata": {
      "needs_background": "light"
     },
     "output_type": "display_data"
    }
   ],
   "source": [
    "plt.rcParams[\"figure.figsize\"] = [15.00, 7]\n",
    "plt.rcParams[\"figure.autolayout\"] = True\n",
    "\n",
    "ax = sb.lineplot(x=\"date\", y=\"daily_total_rent\", data=daily_counts)\n",
    "\n",
    "ax.tick_params(rotation=45)\n",
    "\n",
    "plt.show()"
   ]
  },
  {
   "cell_type": "markdown",
   "id": "b00dccbc",
   "metadata": {},
   "source": [
    "##### Plot weekly bike rental in time series"
   ]
  },
  {
   "cell_type": "code",
   "execution_count": 35,
   "id": "54cb1ead",
   "metadata": {},
   "outputs": [
    {
     "data": {
      "image/png": "[encoded data removed]",
      "text/plain": [
       "<Figure size 1080x504 with 1 Axes>"
      ]
     },
     "metadata": {
      "needs_background": "light"
     },
     "output_type": "display_data"
    }
   ],
   "source": [
    "plt.rcParams[\"figure.figsize\"] = [15.00, 7]\n",
    "plt.rcParams[\"figure.autolayout\"] = True\n",
    "\n",
    "ax = sb.lineplot(x=\"first_day_of_the_week\", y=\"weekly_total_rent\", data=weekly_counts)\n",
    "\n",
    "ax.tick_params(rotation=45)\n",
    "\n",
    "plt.show()"
   ]
  },
  {
   "cell_type": "markdown",
   "id": "717ae96c",
   "metadata": {},
   "source": [
    "###### By looking at the time series graph, there is seasonality during the xmas period (the number of bikes rented during and toward the period is declined) "
   ]
  },
  {
   "cell_type": "code",
   "execution_count": null,
   "id": "6863059b",
   "metadata": {},
   "outputs": [],
   "source": []
  },
  {
   "cell_type": "code",
   "execution_count": null,
   "id": "848acafa",
   "metadata": {},
   "outputs": [],
   "source": []
  },
  {
   "cell_type": "code",
   "execution_count": null,
   "id": "452fe67c",
   "metadata": {},
   "outputs": [],
   "source": []
  },
  {
   "cell_type": "code",
   "execution_count": null,
   "id": "98c20c9a",
   "metadata": {},
   "outputs": [],
   "source": []
  },
  {
   "cell_type": "markdown",
   "id": "67b2a168",
   "metadata": {},
   "source": [
    "#### Time Series Analysis of weekly rentals"
   ]
  },
  {
   "cell_type": "markdown",
   "id": "62fdb9d0",
   "metadata": {},
   "source": [
    "###### Prediction with sklearn RandomForestRegressor"
   ]
  },
  {
   "cell_type": "markdown",
   "id": "369f77ee",
   "metadata": {},
   "source": [
    "###### Add daily total bike counts to bike dataset"
   ]
  },
  {
   "cell_type": "code",
   "execution_count": 36,
   "id": "32b40e43",
   "metadata": {},
   "outputs": [],
   "source": [
    "#add daily total counts to the original dataset\n",
    "bike_rental = bike_rental.merge(daily_counts, on = 'date', how='left') #add daily counts"
   ]
  },
  {
   "cell_type": "code",
   "execution_count": 37,
   "id": "f844019e",
   "metadata": {},
   "outputs": [
    {
     "data": {
      "text/plain": [
       "Index(['datetime', 'season', 'holiday', 'workingday', 'weather', 'temp',\n",
       "       'atemp', 'humidity', 'windspeed', 'count', 'date', 'hour_mins',\n",
       "       'day_of_week', 'first_day_of_the_week', 'index', 'daily_total_rent'],\n",
       "      dtype='object')"
      ]
     },
     "execution_count": 37,
     "metadata": {},
     "output_type": "execute_result"
    }
   ],
   "source": [
    "bike_rental.columns"
   ]
  },
  {
   "cell_type": "code",
   "execution_count": 38,
   "id": "866555f6",
   "metadata": {},
   "outputs": [
    {
     "data": {
      "text/plain": [
       "17189"
      ]
     },
     "execution_count": 38,
     "metadata": {},
     "output_type": "execute_result"
    }
   ],
   "source": [
    "len(bike_rental)"
   ]
  },
  {
   "cell_type": "markdown",
   "id": "2e96160f",
   "metadata": {},
   "source": [
    "###### Add weekly total bike counts to bike dataset"
   ]
  },
  {
   "cell_type": "code",
   "execution_count": 39,
   "id": "2aa473df",
   "metadata": {},
   "outputs": [],
   "source": [
    "#add weekly counts to the original dataset\n",
    "bike_rental_weekly_count = bike_rental.merge(weekly_counts, on = 'first_day_of_the_week', how='left') #add weekly counts"
   ]
  },
  {
   "cell_type": "code",
   "execution_count": 40,
   "id": "471bb69c",
   "metadata": {},
   "outputs": [
    {
     "data": {
      "text/plain": [
       "17189"
      ]
     },
     "execution_count": 40,
     "metadata": {},
     "output_type": "execute_result"
    }
   ],
   "source": [
    "len(bike_rental_weekly_count )"
   ]
  },
  {
   "cell_type": "code",
   "execution_count": 41,
   "id": "e2dcd16d",
   "metadata": {},
   "outputs": [
    {
     "data": {
      "text/plain": [
       "17189"
      ]
     },
     "execution_count": 41,
     "metadata": {},
     "output_type": "execute_result"
    }
   ],
   "source": [
    "len(bike_rental)"
   ]
  },
  {
   "cell_type": "code",
   "execution_count": 42,
   "id": "ca622b84",
   "metadata": {},
   "outputs": [],
   "source": [
    "bike_rental_weekly_count.to_excel('bike_rental_weekly_count.xlsx')"
   ]
  },
  {
   "cell_type": "markdown",
   "id": "7c5cfcd6",
   "metadata": {},
   "source": [
    "###### Daily Prediction"
   ]
  },
  {
   "cell_type": "code",
   "execution_count": null,
   "id": "fe0b930a",
   "metadata": {},
   "outputs": [],
   "source": []
  },
  {
   "cell_type": "code",
   "execution_count": null,
   "id": "76b368fe",
   "metadata": {},
   "outputs": [],
   "source": []
  },
  {
   "cell_type": "code",
   "execution_count": null,
   "id": "b41ef50d",
   "metadata": {},
   "outputs": [],
   "source": []
  }
 ],
 "metadata": {
  "kernelspec": {
   "display_name": "Python 3 (ipykernel)",
   "language": "python",
   "name": "python3"
  },
  "language_info": {
   "codemirror_mode": {
    "name": "ipython",
    "version": 3
   },
   "file_extension": ".py",
   "mimetype": "text/x-python",
   "name": "python",
   "nbconvert_exporter": "python",
   "pygments_lexer": "ipython3",
   "version": "3.10.4"
  }
 },
 "nbformat": 4,
 "nbformat_minor": 5
}
